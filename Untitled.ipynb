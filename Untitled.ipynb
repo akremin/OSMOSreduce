{
 "cells": [
  {
   "cell_type": "code",
   "execution_count": 1,
   "metadata": {},
   "outputs": [],
   "source": [
    "import numpy as np"
   ]
  },
  {
   "cell_type": "code",
   "execution_count": 2,
   "metadata": {},
   "outputs": [],
   "source": [
    "def fill_pascal(nsides):\n",
    "     start = 1\n",
    "     listlist = [[1]*(row+1) for row in range(nsides)]\n",
    "     for row in range(2,nsides):\n",
    "         for col in range(start,start+row-1):\n",
    "             listlist[row][col] = listlist[row-1][col-1]+listlist[row-1][col]\n",
    "     return listlist"
   ]
  },
  {
   "cell_type": "code",
   "execution_count": 9,
   "metadata": {},
   "outputs": [],
   "source": [
    "def print_pascal_attempt1(listlist):\n",
    "     nrows = len(listlist)\n",
    "     mincols = len(listlist[0])\n",
    "     maxcols = len(listlist[-1])\n",
    "     if mincols != 1 or maxcols !=nrows:\n",
    "         print(\"The number of columns in each row didn't match what I expected\")\n",
    "         return\n",
    "     middle_ind = nrows\n",
    "     for row in range(nrows):\n",
    "         eachrow_str = [\"\\t\"]*(2*nrows-1)\n",
    "         rowlist = listlist[row]\n",
    "         ncols = len(rowlist)\n",
    "         start_ind = middle_ind - ncols\n",
    "         end_ind = middle_ind + ncols\n",
    "         for ind,col in zip(range(start_ind,end_ind,2),rowlist):\n",
    "             eachrow_str[ind] = \"{:d}\".format(col)\n",
    "         print(''.join(eachrow_str))\n",
    "     return"
   ]
  },
  {
   "cell_type": "code",
   "execution_count": 63,
   "metadata": {},
   "outputs": [],
   "source": [
    "def print_pascal(listlist):\n",
    "    seper = \"  \"\n",
    "    nrows = len(listlist)\n",
    "    mincols = len(listlist[0])\n",
    "    maxcols = len(listlist[-1])\n",
    "    if mincols != 1 or maxcols !=nrows:\n",
    "        print(\"The number of columns in each row didn't match what I expected\")\n",
    "        return\n",
    "    middle_ind = nrows\n",
    "    nlocations = 2*nrows\n",
    "    for row in range(nrows):\n",
    "        rowlist = listlist[row]\n",
    "        fewer_nums = nrows-row\n",
    "        contentlist = (seper+seper).join(['{:d}'.format(num) for num in rowlist])\n",
    "        #remaining_space1 = (nlocations - 2*len(rowlist))//4\n",
    "        #remaining_space2 = (nlocations - 2*len(rowlist))//2 - remaining_space1\n",
    "        #half_rem_space = remaining_space//2\n",
    "        full_list = seper*fewer_nums + contentlist + seper*fewer_nums\n",
    "        print(full_list)\n",
    "        #print(remaining_space1,\"\\t\"*remaining_space1,remaining_space2)\n",
    "        \n",
    "    return"
   ]
  },
  {
   "cell_type": "code",
   "execution_count": 64,
   "metadata": {},
   "outputs": [
    {
     "name": "stdout",
     "output_type": "stream",
     "text": [
      "                        1                        \n",
      "                      1    1                      \n",
      "                    1    2    1                    \n",
      "                  1    3    3    1                  \n",
      "                1    4    6    4    1                \n",
      "              1    5    10    10    5    1              \n",
      "            1    6    15    20    15    6    1            \n",
      "          1    7    21    35    35    21    7    1          \n",
      "        1    8    28    56    70    56    28    8    1        \n",
      "      1    9    36    84    126    126    84    36    9    1      \n",
      "    1    10    45    120    210    252    210    120    45    10    1    \n",
      "  1    11    55    165    330    462    462    330    165    55    11    1  \n"
     ]
    }
   ],
   "source": [
    "ll = fill_pascal(12)\n",
    "print_pascal(ll)"
   ]
  },
  {
   "cell_type": "code",
   "execution_count": null,
   "metadata": {},
   "outputs": [],
   "source": []
  }
 ],
 "metadata": {
  "kernelspec": {
   "display_name": "Python 3",
   "language": "python",
   "name": "python3"
  },
  "language_info": {
   "codemirror_mode": {
    "name": "ipython",
    "version": 3
   },
   "file_extension": ".py",
   "mimetype": "text/x-python",
   "name": "python",
   "nbconvert_exporter": "python",
   "pygments_lexer": "ipython3",
   "version": "3.6.5"
  }
 },
 "nbformat": 4,
 "nbformat_minor": 2
}
