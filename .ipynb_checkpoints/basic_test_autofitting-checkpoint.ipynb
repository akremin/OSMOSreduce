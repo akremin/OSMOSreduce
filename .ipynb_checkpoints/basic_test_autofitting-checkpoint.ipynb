{
 "cells": [
  {
   "cell_type": "code",
   "execution_count": 125,
   "metadata": {},
   "outputs": [],
   "source": [
    "import matplotlib.pyplot as plt\n",
    "import numpy as np\n",
    "from scipy.optimize import curve_fit"
   ]
  },
  {
   "cell_type": "code",
   "execution_count": 126,
   "metadata": {},
   "outputs": [],
   "source": [
    "def pix_to_lam(pixels,*params):\n",
    "    return poly(pixels,*params)\n",
    "\n",
    "def lam_to_pix(lams,a,b,c):\n",
    "    h = -b/(2*a)\n",
    "    k = c - (a*h*h)\n",
    "    pix_p = np.sqrt((lams-k)/a)+h\n",
    "    return pix_p\n",
    "\n",
    "def recursive_poly(x,*params):\n",
    "    order = len(params)-1\n",
    "    if order == 0:\n",
    "        return params\n",
    "    elif order == 1:\n",
    "        return recursive_poly(x,params[0])*x+params[-1]\n",
    "    else:\n",
    "        return recursive_poly(x,*(params[:-1]))*x+params[-1]\n",
    "\n",
    "def poly(x,*params):\n",
    "    np_x = np.asarray(x)\n",
    "    #params = list(params)[::-1]\n",
    "    return recursive_poly(np_x,*params)\n",
    "    \n",
    "def numeric_lam_to_pix(lams,*params,maxpix=10000,pixres=0.1):\n",
    "    test_pixels = np.arange(0,maxpix,pixres)\n",
    "    test_waves = pix_to_lam(test_pixels,*params)\n",
    "    found_pixels = []\n",
    "    for lin in zip(lams):\n",
    "        best_ind = np.argmin(np.abs(test_waves-lin))\n",
    "        found_pixels.append(test_pixels[best_ind])\n",
    "    return found_pixels"
   ]
  },
  {
   "cell_type": "code",
   "execution_count": 179,
   "metadata": {},
   "outputs": [],
   "source": [
    "atrue = 2e-16\n",
    "btrue = 2e-14\n",
    "ctrue = 2e-6\n",
    "dtrue = 2e-6\n",
    "etrue = 1.00002\n",
    "ftrue = 3000\n",
    "poly_coefs = (atrue,btrue,ctrue,dtrue,etrue,ftrue)\n",
    "\n",
    "nlines = 10\n",
    "size_ccd = 2056"
   ]
  },
  {
   "cell_type": "code",
   "execution_count": 128,
   "metadata": {},
   "outputs": [],
   "source": [
    "from astropy.table import Table\n",
    "hg_tab = Table.read('./calib_lines/Hg300.txt',format='ascii.basic',data_start=0,names=['wave','element'])"
   ]
  },
  {
   "cell_type": "code",
   "execution_count": 187,
   "metadata": {},
   "outputs": [],
   "source": [
    "# import pickle as pkl\n",
    "# apcut_data = {}\n",
    "# with open('pkldump.pkl','rb') as pdump:\n",
    "#     apcut_data = pkl.load(pdump)"
   ]
  },
  {
   "cell_type": "code",
   "execution_count": 188,
   "metadata": {},
   "outputs": [],
   "source": [
    "calib_wavelengths = np.asarray(hg_tab['wave'].tolist())\n",
    "calib_fluxs = np.ones(len(wavelengths))*200 #np.random.randint(10,1000,len(wavelengths))"
   ]
  },
  {
   "cell_type": "code",
   "execution_count": 130,
   "metadata": {},
   "outputs": [],
   "source": [
    "if len(calib_wavelengths) < nlines:\n",
    "    nlines = len(calib_wavelengths)"
   ]
  },
  {
   "cell_type": "code",
   "execution_count": 165,
   "metadata": {},
   "outputs": [
    {
     "name": "stdout",
     "output_type": "stream",
     "text": [
      "[3002.0400008] 3002.0400008\n"
     ]
    }
   ],
   "source": [
    "print(poly(2,*poly_coefs[-6:]),atrue*32+btrue*16+ctrue*8+dtrue*4+etrue*2+ftrue)"
   ]
  },
  {
   "cell_type": "code",
   "execution_count": 166,
   "metadata": {},
   "outputs": [],
   "source": [
    "rankings = np.argsort(calib_fluxs)[::-1]\n",
    "top_flux_inds = rankings[:nlines]\n",
    "backsorted_topfluxes = np.sort(top_flux_inds)\n",
    "\n",
    "calib_waves_shortlist = calib_wavelengths[backsorted_topfluxes]\n",
    "calib_fluxs_shortlist = calib_fluxs[backsorted_topfluxes]\n",
    "\n",
    "minflux = np.min(calib_fluxs_shortlist)\n",
    "if minflux < 1.1:\n",
    "    calib_log_fluxs_shortlist = np.log(calib_fluxs_shortlist-np.min(calib_fluxs_shortlist)+1.1)\n",
    "else:\n",
    "    calib_log_fluxs_shortlist = np.log(calib_fluxs_shortlist-np.min(calib_fluxs_shortlist)+1.1)\n",
    "    \n",
    "calib_sigma_shortlist = calib_log_fluxs_shortlist/np.max(calib_log_fluxs_shortlist)\n",
    "\n",
    "del rankings,top_flux_inds,backsorted_topfluxes,calib_log_fluxs_shortlist,minflux"
   ]
  },
  {
   "cell_type": "code",
   "execution_count": 182,
   "metadata": {},
   "outputs": [
    {
     "name": "stdout",
     "output_type": "stream",
     "text": [
      "[127.518, 291.675, 457.812, 459.88100000000003, 463.581, 604.346, 614.029, 818.3870000000001, 965.798, 968.981]\n",
      "[3131.7   3341.48  3650.153 3654.84  3663.279 4046.563 4077.831 4916.068\n",
      " 5769.598 5790.663]\n",
      "[3131.70018375 3341.47964526 3650.15254801 3654.83914387 3663.27921459\n",
      " 4046.56286642 4077.83233246 4916.06658047 5769.59495086 5790.66608468]\n",
      "[-0.00018375  0.00035474  0.00045199  0.00085613 -0.00021459  0.00013358\n",
      " -0.00133246  0.00141953  0.00304914 -0.00308468]\n"
     ]
    }
   ],
   "source": [
    "pixels_shortlist = numeric_lam_to_pix(waves_shortlist,*poly_coefs,maxpix=size_ccd,pixres=0.001)\n",
    "ys = np.zeros(nlines)\n",
    "print(pixels_shortlist)\n",
    "print(waves_shortlist)\n",
    "print(pix_to_lam(pixels_shortlist,*poly_coefs))\n",
    "print(waves_shortlist-pix_to_lam(pixels_shortlist,*poly_coefs))"
   ]
  },
  {
   "cell_type": "code",
   "execution_count": 183,
   "metadata": {},
   "outputs": [
    {
     "data": {
      "text/plain": [
       "<Figure size 432x288 with 0 Axes>"
      ]
     },
     "metadata": {},
     "output_type": "display_data"
    },
    {
     "data": {
      "image/png": "[encoded data removed]",
      "text/plain": [
       "<Figure size 432x432 with 1 Axes>"
      ]
     },
     "metadata": {},
     "output_type": "display_data"
    }
   ],
   "source": [
    "plt.figure(),plt.subplots(figsize=(6,6))\n",
    "plt.plot(waves_shortlist,ys,'b.')\n",
    "plt.plot(pixels,ys,'r.')\n",
    "plt.plot(pix_to_lam(pixels_shortlist,*poly_coefs)+1,ys,'g.')\n",
    "plt.show()"
   ]
  },
  {
   "cell_type": "code",
   "execution_count": 185,
   "metadata": {},
   "outputs": [
    {
     "name": "stdout",
     "output_type": "stream",
     "text": [
      "Best found was\ta=-4.1774e-16,\tb=1.4945e-12,\tc=1.9987e-06,\td=2.4550e-06,\te=9.9995e-01,\tf=3.0000e+03\n",
      "Truth was\ta=2.0000e-16,\tb=2.0000e-14,\tc=2.0000e-06,\td=2.0000e-06,\te=1.0000e+00,\tf=3.0000e+03\n"
     ]
    }
   ],
   "source": [
    "best_params,param_covar = curve_fit(pix_to_lam,pixels_shortlist,waves_shortlist,p0=[0.,0.,0.,0.,1.,1000.],sigma=sigma_shortlist,maxfev=int(1e5))\n",
    "alphabet = ['a','b','c','d','e','f','g','h','i','j','k']\n",
    "\n",
    "best_str = 'Best found was'\n",
    "truth_str = 'Truth was'\n",
    "alphabet = alphabet[:len(best_params)]\n",
    "\n",
    "alpha_str = ''\n",
    "for lett in alphabet:\n",
    "    alpha_str += '\\t'+lett+'={:.04e},'\n",
    "    \n",
    "alpha_str = alpha_str[:-1]\n",
    "best_str += alpha_str\n",
    "truth_str += alpha_str\n",
    "print(best_str.format(*best_params))\n",
    "print(truth_str.format(*poly_coefs))"
   ]
  },
  {
   "cell_type": "code",
   "execution_count": 186,
   "metadata": {},
   "outputs": [
    {
     "data": {
      "text/plain": [
       "<Figure size 432x288 with 0 Axes>"
      ]
     },
     "metadata": {},
     "output_type": "display_data"
    },
    {
     "data": {
      "image/png": "[encoded data removed]",
      "text/plain": [
       "<Figure size 720x720 with 1 Axes>"
      ]
     },
     "metadata": {},
     "output_type": "display_data"
    }
   ],
   "source": [
    "xs = np.arange(3000)\n",
    "bests = poly(xs,*best_params)\n",
    "truth = poly(xs,*poly_coefs)\n",
    "\n",
    "plt.figure(),plt.subplots(figsize=(10,10))\n",
    "plt.plot(xs,bests,'b-',linewidth=2)\n",
    "plt.plot(xs,truth,'r-',linewidth=2)\n",
    "plt.plot(pixels_shortlist,waves_shortlist,'g*',markersize=12)\n",
    "plt.show()"
   ]
  }
 ],
 "metadata": {
  "kernelspec": {
   "display_name": "Python 3",
   "language": "python",
   "name": "python3"
  },
  "language_info": {
   "codemirror_mode": {
    "name": "ipython",
    "version": 3
   },
   "file_extension": ".py",
   "mimetype": "text/x-python",
   "name": "python",
   "nbconvert_exporter": "python",
   "pygments_lexer": "ipython3",
   "version": "3.6.5"
  }
 },
 "nbformat": 4,
 "nbformat_minor": 2
}
