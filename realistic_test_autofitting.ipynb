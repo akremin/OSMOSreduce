{
 "cells": [
  {
   "cell_type": "code",
   "execution_count": 43,
   "metadata": {},
   "outputs": [],
   "source": [
    "import matplotlib.pyplot as plt\n",
    "import numpy as np\n",
    "from scipy.optimize import curve_fit\n",
    "from scipy.signal import medfilt\n",
    "from scipy.signal import argrelmin, argrelmax, argrelextrema\n",
    "from astropy.table import Table,vstack\n",
    "import pickle as pkl"
   ]
  },
  {
   "cell_type": "code",
   "execution_count": 67,
   "metadata": {},
   "outputs": [],
   "source": [
    "##   a + bx + cx^2 + dx^3 + ex^4 + fx^5 + ...\n",
    "## for example: [1000.,1.,0.,0.,0.,0.]  ->  1000 + 1x + 0x^2 + 0x^3 + 0x^4 + 0x^5\n",
    "init_poly_coeffs = [1000.,1.]#,0.,0.] #[1000.,1.,0.,0.,0.,0.] \n",
    "\n",
    "## number of calibrations to use in automated search\n",
    "ncalib_lines = 18\n",
    "nchoose_lines = 16 # nCr -> 10C8 = 60 possibilities\n",
    "\n",
    "## number of test points to use in automated search\n",
    "ntest_lines = 20\n",
    "#nchoose_lines = 7  # nCr -> 8C7 = 8 possibilities"
   ]
  },
  {
   "cell_type": "code",
   "execution_count": 89,
   "metadata": {},
   "outputs": [],
   "source": [
    "def recursive_poly(x,*reversed_coeffs):\n",
    "    order = len(reversed_coeffs)-1\n",
    "    if order == 0:\n",
    "        return reversed_coeffs\n",
    "    elif order == 1:\n",
    "        return np.multiply(recursive_poly(x,reversed_coeffs[0]),x)+reversed_coeffs[-1]\n",
    "    else:\n",
    "        return np.multiply(recursive_poly(x,*(reversed_coeffs[:-1])),x)+reversed_coeffs[-1]\n",
    "\n",
    "def poly(x,*coeffs):\n",
    "    np_x = np.asarray(x)\n",
    "\n",
    "    reversed_coeffs = list(coeffs)[::-1]\n",
    "    return recursive_poly(np_x,*reversed_coeffs)\n",
    "\n",
    "pix_to_lam = poly"
   ]
  },
  {
   "cell_type": "code",
   "execution_count": 70,
   "metadata": {},
   "outputs": [],
   "source": [
    "alphabet = ['a','b','c','d','e','f','g','h','i','j','k']\n",
    "best_str = 'Best found was'\n",
    "alphabet = alphabet[:len(init_poly_coeffs)]\n",
    "\n",
    "alpha_str = ''\n",
    "for lett in alphabet:\n",
    "    alpha_str += '\\t'+lett+'={:.04e},'\n",
    "    \n",
    "alpha_str = alpha_str[:-1]\n",
    "best_str += alpha_str"
   ]
  },
  {
   "cell_type": "code",
   "execution_count": 47,
   "metadata": {},
   "outputs": [
    {
     "name": "stdout",
     "output_type": "stream",
     "text": [
      "193 NeI NeI 85000 85000\n",
      "Removing 193\n",
      "191 NeI NeI 34000 34000\n",
      "Removing 191\n",
      "187 NeI NeI 100000 100000\n",
      "Removing 187\n",
      "173 NeI NeI 700 700\n",
      "Removing 173\n",
      "170 NeI NeI 5000 5000\n",
      "Removing 170\n",
      "164 NeI NeI 10000 10000\n",
      "Removing 164\n",
      "160 NeI NeI 1000 1000\n",
      "Removing 160\n",
      "158 NeI NeI 15000 15000\n",
      "Removing 158\n",
      "153 NeI NeI 20000 20000\n",
      "Removing 153\n",
      "150 NeI NeI 10000 10000\n",
      "Removing 150\n",
      "148 NeI NeI 10000 10000\n",
      "Removing 148\n",
      "144 NeI NeI 1000 1000\n",
      "Removing 144\n",
      "141 NeI NeI 10000 10000\n",
      "Removing 141\n",
      "139 NeI NeI 10000 10000\n",
      "Removing 139\n",
      "130 NeI NeI 10000 10000\n",
      "Removing 130\n",
      "127 NeI NeI 10000 10000\n",
      "Removing 127\n",
      "122 NeI NeI 3000 3000\n",
      "Removing 122\n",
      "120 NeI NeI 10000 10000\n",
      "Removing 120\n",
      "115 NeI NeI 10000 10000\n",
      "Removing 115\n",
      "113 NeI NeI 6000 6000\n",
      "Removing 113\n",
      "104 NeI NeI 10000 10000\n",
      "Removing 104\n",
      "100 NeI NeI 20000 20000\n",
      "Removing 100\n",
      "92 NeI NeI 7000 10\n"
     ]
    }
   ],
   "source": [
    "tabs = []\n",
    "for name in ['Argon','Neon','HgNe','Xenon']:\n",
    "    tab = Table.read('./lamp_linelists/osmos_{}.dat'.format(name),format='ascii.basic',\\\n",
    "                     data_start=0,names=['wavelength','element','flux'])\n",
    "    tabs.append(tab)\n",
    "    \n",
    "calib_linelist = vstack(tabs)\n",
    "calib_linelist.sort('wavelength')\n",
    "#for tab in tabs[1:]:\n",
    "#    merged_table.\n",
    "dat = calib_linelist['wavelength'].data\n",
    "possible_dups = np.where(np.abs(dat[1:]-dat[:-1]) < 0.001)[0]\n",
    "\n",
    "for test_dup in possible_dups[::-1]:\n",
    "    print(test_dup,calib_linelist['element'][test_dup],calib_linelist['element'][test_dup+1],calib_linelist['flux'][test_dup],calib_linelist['flux'][test_dup+1])\n",
    "    if ((calib_linelist['element'][test_dup] == calib_linelist['element'][test_dup+1]) &\\\n",
    "        (calib_linelist['flux'][test_dup] == calib_linelist['flux'][test_dup+1])):\n",
    "        calib_linelist.remove_row(test_dup)\n",
    "        print(\"Removing {}\".format(test_dup))"
   ]
  },
  {
   "cell_type": "code",
   "execution_count": 48,
   "metadata": {},
   "outputs": [
    {
     "data": {
      "text/html": [
       "<i>Table length=173</i>\n",
       "<table id=\"table2051431208160-412461\" class=\"table-striped table-bordered table-condensed\">\n",
       "<thead><tr><th>idx</th><th>wavelength</th><th>element</th><th>flux</th></tr></thead>\n",
       "<tr><td>0</td><td>3443.83</td><td>XeI</td><td>10</td></tr>\n",
       "<tr><td>1</td><td>3472.5706</td><td>NeI</td><td>5000</td></tr>\n",
       "<tr><td>2</td><td>3520.4714</td><td>NeI</td><td>10000</td></tr>\n",
       "<tr><td>3</td><td>3593.5263</td><td>NeI</td><td>5000</td></tr>\n",
       "<tr><td>4</td><td>3650.158</td><td>HgI</td><td>9000</td></tr>\n",
       "<tr><td>5</td><td>3654.842</td><td>HgI</td><td>3000</td></tr>\n",
       "<tr><td>6</td><td>3662.887</td><td>HgI</td><td>500</td></tr>\n",
       "<tr><td>7</td><td>3663.284</td><td>HgI</td><td>2000</td></tr>\n",
       "<tr><td>8</td><td>3834.679</td><td>ArI</td><td>7</td></tr>\n",
       "<tr><td>9</td><td>3877.2</td><td>XeI</td><td>10</td></tr>\n",
       "<tr><td>10</td><td>3948.9788</td><td>ArI</td><td>35</td></tr>\n",
       "<tr><td>11</td><td>3950.924</td><td>XeI</td><td>120</td></tr>\n",
       "<tr><td>12</td><td>3967.5411</td><td>XeI</td><td>200</td></tr>\n",
       "<tr><td>13</td><td>4044.4182</td><td>ArI</td><td>50</td></tr>\n",
       "<tr><td>14</td><td>4046.565</td><td>HgI</td><td>12000</td></tr>\n",
       "<tr><td>15</td><td>4077.837</td><td>HgI</td><td>1000</td></tr>\n",
       "<tr><td>16</td><td>4078.8202</td><td>XeI</td><td>100</td></tr>\n",
       "<tr><td>17</td><td>4109.7089</td><td>XeI</td><td>60</td></tr>\n",
       "<tr><td>18</td><td>4116.1147</td><td>XeI</td><td>80</td></tr>\n",
       "<tr><td>19</td><td>4131.0613</td><td>NeI</td><td>700</td></tr>\n",
       "<tr><td>20</td><td>4158.5903</td><td>ArI</td><td>400</td></tr>\n",
       "<tr><td>21</td><td>4181.884</td><td>ArI</td><td>50</td></tr>\n",
       "<tr><td>22</td><td>4190.713</td><td>ArI</td><td>100</td></tr>\n",
       "<tr><td>23</td><td>4193.528</td><td>XeI</td><td>150</td></tr>\n",
       "<tr><td>24</td><td>4198.317</td><td>ArI</td><td>200</td></tr>\n",
       "<tr><td>25</td><td>4200.6743</td><td>ArI</td><td>400</td></tr>\n",
       "<tr><td>26</td><td>4259.362</td><td>ArI</td><td>200</td></tr>\n",
       "<tr><td>27</td><td>4266.286</td><td>ArI</td><td>100</td></tr>\n",
       "<tr><td>28</td><td>4272.169</td><td>ArI</td><td>150</td></tr>\n",
       "<tr><td>29</td><td>4300.1011</td><td>ArI</td><td>100</td></tr>\n",
       "<tr><td>30</td><td>4333.561</td><td>ArI</td><td>150</td></tr>\n",
       "<tr><td>31</td><td>4339.2232</td><td>HgI</td><td>50</td></tr>\n",
       "<tr><td>32</td><td>4345.168</td><td>ArI</td><td>25</td></tr>\n",
       "<tr><td>33</td><td>4347.4945</td><td>HgI</td><td>150</td></tr>\n",
       "<tr><td>34</td><td>4358.335</td><td>HgI</td><td>12000</td></tr>\n",
       "<tr><td>35</td><td>4383.547</td><td>ArII</td><td>1000</td></tr>\n",
       "<tr><td>36</td><td>4383.908</td><td>XeI</td><td>100</td></tr>\n",
       "<tr><td>37</td><td>4401.02</td><td>ArII</td><td>1000</td></tr>\n",
       "<tr><td>38</td><td>4500.978</td><td>XeI</td><td>1000</td></tr>\n",
       "<tr><td>39</td><td>4510.733</td><td>ArI</td><td>100</td></tr>\n",
       "<tr><td>40</td><td>4511.509</td><td>NeI</td><td>200</td></tr>\n",
       "<tr><td>41</td><td>4524.6805</td><td>XeI</td><td>600</td></tr>\n",
       "<tr><td>42</td><td>4582.7472</td><td>XeI</td><td>200</td></tr>\n",
       "<tr><td>43</td><td>4596.097</td><td>ArI</td><td>15</td></tr>\n",
       "<tr><td>44</td><td>4609.91</td><td>NeI</td><td>1500</td></tr>\n",
       "<tr><td>45</td><td>4624.2756</td><td>XeI</td><td>5000</td></tr>\n",
       "<tr><td>46</td><td>4628.3113</td><td>NeI</td><td>1500</td></tr>\n",
       "<tr><td>47</td><td>4628.441</td><td>ArI</td><td>7</td></tr>\n",
       "<tr><td>48</td><td>4671.2258</td><td>XeI</td><td>10000</td></tr>\n",
       "<tr><td>49</td><td>4690.97</td><td>XeI</td><td>100</td></tr>\n",
       "<tr><td>50</td><td>4697.0208</td><td>XeI</td><td>1000</td></tr>\n",
       "<tr><td>51</td><td>4702.316</td><td>ArI</td><td>15</td></tr>\n",
       "<tr><td>52</td><td>4734.1518</td><td>XeI</td><td>300</td></tr>\n",
       "<tr><td>53</td><td>4788.9258</td><td>NeI</td><td>10000</td></tr>\n",
       "<tr><td>54</td><td>4807.019</td><td>XeI</td><td>300</td></tr>\n",
       "<tr><td>55</td><td>4817.6386</td><td>NeI</td><td>3000</td></tr>\n",
       "<tr><td>56</td><td>4829.708</td><td>XeI</td><td>400</td></tr>\n",
       "<tr><td>57</td><td>4843.2934</td><td>XeI</td><td>300</td></tr>\n",
       "<tr><td>58</td><td>4916.068</td><td>HgI</td><td>20</td></tr>\n",
       "<tr><td>59</td><td>4916.507</td><td>XeI</td><td>500</td></tr>\n",
       "<tr><td>60</td><td>4923.152</td><td>XeI</td><td>500</td></tr>\n",
       "<tr><td>61</td><td>5028.2794</td><td>XeI</td><td>200</td></tr>\n",
       "<tr><td>62</td><td>5116.5032</td><td>NeI</td><td>1500</td></tr>\n",
       "<tr><td>63</td><td>5151.391</td><td>ArI</td><td>5</td></tr>\n",
       "<tr><td>64</td><td>5162.2847</td><td>ArI</td><td>15</td></tr>\n",
       "<tr><td>65</td><td>5162.711</td><td>XeI</td><td>10</td></tr>\n",
       "<tr><td>66</td><td>5187.7461</td><td>ArI</td><td>20</td></tr>\n",
       "<tr><td>67</td><td>5221.271</td><td>ArI</td><td>7</td></tr>\n",
       "<tr><td>68</td><td>5252.7881</td><td>ArI</td><td>3</td></tr>\n",
       "<tr><td>69</td><td>5290.74</td><td>HgI</td><td>30</td></tr>\n",
       "<tr><td>70</td><td>5330.7775</td><td>NeI</td><td>6000</td></tr>\n",
       "<tr><td>71</td><td>5341.0938</td><td>NeI</td><td>10000</td></tr>\n",
       "<tr><td>72</td><td>5364.626</td><td>XeI</td><td>30</td></tr>\n",
       "<tr><td>73</td><td>5392.795</td><td>XeI</td><td>100</td></tr>\n",
       "<tr><td>74</td><td>5400.5616</td><td>NeI</td><td>20000</td></tr>\n",
       "<tr><td>75</td><td>5439.923</td><td>XeI</td><td>30</td></tr>\n",
       "<tr><td>76</td><td>5460.75</td><td>HgI</td><td>6000</td></tr>\n",
       "<tr><td>77</td><td>5488.555</td><td>XeI</td><td>20</td></tr>\n",
       "<tr><td>78</td><td>5495.874</td><td>ArI</td><td>25</td></tr>\n",
       "<tr><td>79</td><td>5552.385</td><td>XeI</td><td>80</td></tr>\n",
       "<tr><td>80</td><td>5558.7021</td><td>ArI</td><td>25</td></tr>\n",
       "<tr><td>81</td><td>5566.615</td><td>XeI</td><td>100</td></tr>\n",
       "<tr><td>82</td><td>5579.28</td><td>XeI</td><td>40</td></tr>\n",
       "<tr><td>83</td><td>5581.784</td><td>XeI</td><td>50</td></tr>\n",
       "<tr><td>84</td><td>5606.7329</td><td>ArI</td><td>35</td></tr>\n",
       "<tr><td>85</td><td>5618.878</td><td>XeI</td><td>80</td></tr>\n",
       "<tr><td>86</td><td>5650.7036</td><td>ArI</td><td>20</td></tr>\n",
       "<tr><td>87</td><td>5695.75</td><td>XeI</td><td>100</td></tr>\n",
       "<tr><td>88</td><td>5696.477</td><td>XeI</td><td>80</td></tr>\n",
       "<tr><td>89</td><td>5715.716</td><td>XeI</td><td>70</td></tr>\n",
       "<tr><td>90</td><td>5716.252</td><td>XeI</td><td>80</td></tr>\n",
       "<tr><td>91</td><td>5739.519</td><td>ArI</td><td>10</td></tr>\n",
       "<tr><td>92</td><td>5764.4188</td><td>NeI</td><td>7000</td></tr>\n",
       "<tr><td>93</td><td>5764.419</td><td>NeI</td><td>10</td></tr>\n",
       "<tr><td>94</td><td>5769.61</td><td>HgI</td><td>1000</td></tr>\n",
       "<tr><td>95</td><td>5790.67</td><td>HgI</td><td>900</td></tr>\n",
       "<tr><td>96</td><td>5803.782</td><td>HgI</td><td>400</td></tr>\n",
       "<tr><td>97</td><td>5820.1558</td><td>NeI</td><td>5000</td></tr>\n",
       "<tr><td>98</td><td>5823.89</td><td>XeI</td><td>300</td></tr>\n",
       "<tr><td>99</td><td>5834.263</td><td>ArI</td><td>5</td></tr>\n",
       "<tr><td>100</td><td>5852.4878</td><td>NeI</td><td>20000</td></tr>\n",
       "<tr><td>101</td><td>5860.3149</td><td>ArI</td><td>10</td></tr>\n",
       "<tr><td>102</td><td>5875.018</td><td>XeI</td><td>100</td></tr>\n",
       "<tr><td>103</td><td>5881.895</td><td>NeI</td><td>10000</td></tr>\n",
       "<tr><td>104</td><td>5882.624</td><td>ArI</td><td>15</td></tr>\n",
       "<tr><td>105</td><td>5888.584</td><td>ArI</td><td>25</td></tr>\n",
       "<tr><td>106</td><td>5894.988</td><td>XeI</td><td>100</td></tr>\n",
       "<tr><td>107</td><td>5912.0854</td><td>ArI</td><td>50</td></tr>\n",
       "<tr><td>108</td><td>5934.172</td><td>XeI</td><td>100</td></tr>\n",
       "<tr><td>109</td><td>5944.834</td><td>NeI</td><td>5000</td></tr>\n",
       "<tr><td>110</td><td>5974.152</td><td>XeI</td><td>40</td></tr>\n",
       "<tr><td>111</td><td>5975.5343</td><td>NeI</td><td>6000</td></tr>\n",
       "<tr><td>112</td><td>6029.9968</td><td>NeI</td><td>10000</td></tr>\n",
       "<tr><td>113</td><td>6032.1274</td><td>ArI</td><td>70</td></tr>\n",
       "<tr><td>114</td><td>6043.223</td><td>ArI</td><td>35</td></tr>\n",
       "<tr><td>115</td><td>6059.372</td><td>ArI</td><td>20</td></tr>\n",
       "<tr><td>116</td><td>6074.3376</td><td>NeI</td><td>10000</td></tr>\n",
       "<tr><td>117</td><td>6096.163</td><td>NeI</td><td>3000</td></tr>\n",
       "<tr><td>118</td><td>6105.635</td><td>ArI</td><td>10</td></tr>\n",
       "<tr><td>119</td><td>6111.761</td><td>XeI</td><td>30</td></tr>\n",
       "<tr><td>120</td><td>6111.951</td><td>XeI</td><td>40</td></tr>\n",
       "<tr><td>121</td><td>6143.0627</td><td>NeI</td><td>10000</td></tr>\n",
       "<tr><td>122</td><td>6145.441</td><td>ArI</td><td>10</td></tr>\n",
       "<tr><td>123</td><td>6163.5937</td><td>NeI</td><td>10000</td></tr>\n",
       "<tr><td>124</td><td>6163.661</td><td>XeI</td><td>90</td></tr>\n",
       "<tr><td>125</td><td>6163.935</td><td>XeI</td><td>80</td></tr>\n",
       "<tr><td>126</td><td>6172.2778</td><td>ArI</td><td>10</td></tr>\n",
       "<tr><td>127</td><td>6182.42</td><td>XeI</td><td>300</td></tr>\n",
       "<tr><td>128</td><td>6198.26</td><td>XeI</td><td>100</td></tr>\n",
       "<tr><td>129</td><td>6200.892</td><td>XeI</td><td>60</td></tr>\n",
       "<tr><td>130</td><td>6212.503</td><td>ArI</td><td>10</td></tr>\n",
       "<tr><td>131</td><td>6217.2812</td><td>NeI</td><td>10000</td></tr>\n",
       "<tr><td>132</td><td>6266.4952</td><td>NeI</td><td>10000</td></tr>\n",
       "<tr><td>133</td><td>6296.872</td><td>ArI</td><td>7</td></tr>\n",
       "<tr><td>134</td><td>6304.7893</td><td>NeI</td><td>1000</td></tr>\n",
       "<tr><td>135</td><td>6307.657</td><td>ArI</td><td>15</td></tr>\n",
       "<tr><td>136</td><td>6318.062</td><td>XeI</td><td>500</td></tr>\n",
       "<tr><td>137</td><td>6334.4276</td><td>NeI</td><td>10000</td></tr>\n",
       "<tr><td>138</td><td>6382.9914</td><td>NeI</td><td>10000</td></tr>\n",
       "<tr><td>139</td><td>6384.7168</td><td>ArI</td><td>20</td></tr>\n",
       "<tr><td>140</td><td>6402.248</td><td>NeI</td><td>20000</td></tr>\n",
       "<tr><td>141</td><td>6416.3071</td><td>ArI</td><td>70</td></tr>\n",
       "<tr><td>142</td><td>6418.41</td><td>XeI</td><td>30</td></tr>\n",
       "<tr><td>143</td><td>6469.705</td><td>XeI</td><td>300</td></tr>\n",
       "<tr><td>144</td><td>6506.5277</td><td>NeI</td><td>15000</td></tr>\n",
       "<tr><td>145</td><td>6532.8824</td><td>NeI</td><td>1000</td></tr>\n",
       "<tr><td>146</td><td>6538.112</td><td>ArI</td><td>15</td></tr>\n",
       "<tr><td>147</td><td>6595.561</td><td>XeI</td><td>100</td></tr>\n",
       "<tr><td>148</td><td>6598.9528</td><td>NeI</td><td>10000</td></tr>\n",
       "<tr><td>149</td><td>6604.853</td><td>ArI</td><td>15</td></tr>\n",
       "<tr><td>150</td><td>6632.464</td><td>XeI</td><td>50</td></tr>\n",
       "<tr><td>151</td><td>6668.92</td><td>XeI</td><td>150</td></tr>\n",
       "<tr><td>152</td><td>6677.282</td><td>ArI</td><td>100</td></tr>\n",
       "<tr><td>153</td><td>6678.2766</td><td>NeI</td><td>5000</td></tr>\n",
       "<tr><td>154</td><td>6678.972</td><td>XeI</td><td>25</td></tr>\n",
       "<tr><td>155</td><td>6717.043</td><td>NeI</td><td>700</td></tr>\n",
       "<tr><td>156</td><td>6728.008</td><td>XeI</td><td>200</td></tr>\n",
       "<tr><td>157</td><td>6752.8335</td><td>ArI</td><td>150</td></tr>\n",
       "<tr><td>158</td><td>6777.57</td><td>XeI</td><td>50</td></tr>\n",
       "<tr><td>159</td><td>6778.6</td><td>XeI</td><td>40</td></tr>\n",
       "<tr><td>160</td><td>6827.315</td><td>XeI</td><td>200</td></tr>\n",
       "<tr><td>161</td><td>6846.613</td><td>XeI</td><td>60</td></tr>\n",
       "<tr><td>162</td><td>6848.82</td><td>XeI</td><td>50</td></tr>\n",
       "<tr><td>163</td><td>6850.13</td><td>XeI</td><td>30</td></tr>\n",
       "<tr><td>164</td><td>6871.2891</td><td>ArI</td><td>150</td></tr>\n",
       "<tr><td>165</td><td>6872.107</td><td>XeI</td><td>100</td></tr>\n",
       "<tr><td>166</td><td>6882.155</td><td>XeI</td><td>300</td></tr>\n",
       "<tr><td>167</td><td>6925.53</td><td>XeI</td><td>100</td></tr>\n",
       "<tr><td>168</td><td>6929.4672</td><td>NeI</td><td>100000</td></tr>\n",
       "<tr><td>169</td><td>6965.4307</td><td>ArI</td><td>10000</td></tr>\n",
       "<tr><td>170</td><td>6976.182</td><td>XeI</td><td>100</td></tr>\n",
       "<tr><td>171</td><td>7024.05</td><td>NeI</td><td>34000</td></tr>\n",
       "<tr><td>172</td><td>7032.4128</td><td>NeI</td><td>85000</td></tr>\n",
       "</table><style>table.dataTable {clear: both; width: auto !important; margin: 0 !important;}\n",
       ".dataTables_info, .dataTables_length, .dataTables_filter, .dataTables_paginate{\n",
       "display: inline-block; margin-right: 1em; }\n",
       ".paginate_button { margin-right: 5px; }\n",
       "</style>\n",
       "<script>\n",
       "\n",
       "var astropy_sort_num = function(a, b) {\n",
       "    var a_num = parseFloat(a);\n",
       "    var b_num = parseFloat(b);\n",
       "\n",
       "    if (isNaN(a_num) && isNaN(b_num))\n",
       "        return ((a < b) ? -1 : ((a > b) ? 1 : 0));\n",
       "    else if (!isNaN(a_num) && !isNaN(b_num))\n",
       "        return ((a_num < b_num) ? -1 : ((a_num > b_num) ? 1 : 0));\n",
       "    else\n",
       "        return isNaN(a_num) ? -1 : 1;\n",
       "}\n",
       "\n",
       "require.config({paths: {\n",
       "    datatables: 'https://cdn.datatables.net/1.10.12/js/jquery.dataTables.min'\n",
       "}});\n",
       "require([\"datatables\"], function(){\n",
       "    console.log(\"$('#table2051431208160-412461').dataTable()\");\n",
       "    \n",
       "jQuery.extend( jQuery.fn.dataTableExt.oSort, {\n",
       "    \"optionalnum-asc\": astropy_sort_num,\n",
       "    \"optionalnum-desc\": function (a,b) { return -astropy_sort_num(a, b); }\n",
       "});\n",
       "\n",
       "    $('#table2051431208160-412461').dataTable({\n",
       "        order: [],\n",
       "        pageLength: 50,\n",
       "        lengthMenu: [[10, 25, 50, 100, 500, 1000, -1], [10, 25, 50, 100, 500, 1000, 'All']],\n",
       "        pagingType: \"full_numbers\",\n",
       "        columnDefs: [{targets: [0, 1, 3], type: \"optionalnum\"}]\n",
       "    });\n",
       "});\n",
       "</script>\n"
      ],
      "text/plain": [
       "<IPython.core.display.HTML object>"
      ]
     },
     "execution_count": 48,
     "metadata": {},
     "output_type": "execute_result"
    }
   ],
   "source": [
    "calib_linelist.show_in_notebook()"
   ]
  },
  {
   "cell_type": "code",
   "execution_count": 49,
   "metadata": {},
   "outputs": [],
   "source": [
    "calib_wavelengths = calib_linelist['wavelength'].data\n",
    "calib_fluxs = calib_linelist['flux'].data #np.random.randint(10,1000,len(wavelengths))"
   ]
  },
  {
   "cell_type": "code",
   "execution_count": 50,
   "metadata": {},
   "outputs": [],
   "source": [
    "if len(calib_wavelengths) < ncalib_lines:\n",
    "    ncalib_lines = len(calib_wavelengths)"
   ]
  },
  {
   "cell_type": "code",
   "execution_count": 51,
   "metadata": {},
   "outputs": [],
   "source": [
    "rankings = np.argsort(calib_fluxs)[::-1]\n",
    "top_flux_inds = rankings[:ncalib_lines]\n",
    "backsorted_topfluxes = np.sort(top_flux_inds)\n",
    "\n",
    "calib_waves_shortlist = calib_wavelengths[backsorted_topfluxes]\n",
    "calib_fluxs_shortlist = calib_fluxs[backsorted_topfluxes]\n",
    "\n",
    "minflux = np.min(calib_fluxs_shortlist)\n",
    "if minflux < 1.1:\n",
    "    calib_log_fluxs_shortlist = np.log(calib_fluxs_shortlist-np.min(calib_fluxs_shortlist)+1.1)\n",
    "else:\n",
    "    calib_log_fluxs_shortlist = np.log(calib_fluxs_shortlist)\n",
    "    \n",
    "calib_sigma_shortlist = calib_log_fluxs_shortlist/np.max(calib_log_fluxs_shortlist)\n",
    "# print(calib_fluxs_shortlist)\n",
    "# print(calib_log_fluxs_shortlist)\n",
    "# print(calib_sigma_shortlist)\n",
    "# print(calib_fluxs_shortlist/np.max(calib_fluxs_shortlist))\n",
    "del rankings,top_flux_inds,backsorted_topfluxes,calib_log_fluxs_shortlist,minflux"
   ]
  },
  {
   "cell_type": "code",
   "execution_count": 52,
   "metadata": {},
   "outputs": [
    {
     "name": "stdout",
     "output_type": "stream",
     "text": [
      "[3520.4714 4046.565  4358.335  4671.2258 5341.0938 5400.5616 5852.4878\n",
      " 5881.895  6217.2812 6266.4952 6334.4276 6382.9914 6402.248  6506.5277\n",
      " 6598.9528 6929.4672 7024.05   7032.4128]\n"
     ]
    },
    {
     "data": {
      "image/png": "[encoded data removed]",
      "text/plain": [
       "<Figure size 432x288 with 1 Axes>"
      ]
     },
     "metadata": {},
     "output_type": "display_data"
    }
   ],
   "source": [
    "plt.figure()\n",
    "print(calib_waves_shortlist)\n",
    "for lin in calib_waves_shortlist:\n",
    "    plt.axvline(lin)"
   ]
  },
  {
   "cell_type": "code",
   "execution_count": 53,
   "metadata": {},
   "outputs": [],
   "source": [
    "apcut_data = {}\n",
    "with open('pkldump.pkl','rb') as pdump:\n",
    "    apcut_data = pkl.load(pdump)"
   ]
  },
  {
   "cell_type": "code",
   "execution_count": 54,
   "metadata": {},
   "outputs": [
    {
     "data": {
      "text/plain": [
       "[<matplotlib.lines.Line2D at 0x1dd9a4d02b0>]"
      ]
     },
     "execution_count": 54,
     "metadata": {},
     "output_type": "execute_result"
    },
    {
     "data": {
      "image/png": "[encoded data removed]",
      "text/plain": [
       "<Figure size 432x288 with 1 Axes>"
      ]
     },
     "metadata": {},
     "output_type": "display_data"
    }
   ],
   "source": [
    "test_spectra = apcut_data['comp']['r'][628]['r101']\n",
    "size_ccd = len(test_spectra)\n",
    "plt.figure()\n",
    "plt.plot(range(len(test_spectra)),test_spectra,'b-')"
   ]
  },
  {
   "cell_type": "code",
   "execution_count": 55,
   "metadata": {},
   "outputs": [
    {
     "name": "stdout",
     "output_type": "stream",
     "text": [
      "[ 941 1250 1271 1333 1362 1425 1456 1511 1555 1577 1624 1645 1699 1748\n",
      " 1787 1817 1866 1885 1991 2017] [218042.85888   51897.6606    56225.031225  64058.310825  46465.6854\n",
      "  71584.1427    19808.4243    23101.5156    62320.77285   98020.50195\n",
      " 170541.222     54870.8658    51473.4336   104839.8618    35388.1086\n",
      " 132426.058875 192393.2913   220276.022925 178620.5877    76598.17005 ]\n"
     ]
    },
    {
     "data": {
      "image/png": "[encoded data removed]",
      "text/plain": [
       "<Figure size 432x288 with 1 Axes>"
      ]
     },
     "metadata": {},
     "output_type": "display_data"
    }
   ],
   "source": [
    "test_pixel_peaks = argrelmax(test_spectra)[0]\n",
    "test_flux_peaks = test_spectra[test_pixel_peaks]\n",
    "rankings = np.argsort(test_flux_peaks)[::-1]\n",
    "top_flux_inds = rankings[:ntest_lines]\n",
    "backsorted_topfluxes = np.sort(top_flux_inds)\n",
    "\n",
    "test_pixel_peaks_shortlist = test_pixel_peaks[backsorted_topfluxes]\n",
    "test_flux_peaks_shortlist = test_flux_peaks[backsorted_topfluxes]\n",
    "print(test_pixel_peaks_shortlist,test_flux_peaks_shortlist)\n",
    "\n",
    "plt.figure()\n",
    "plt.plot(range(len(test_spectra)),test_spectra,'b-')\n",
    "for pix in test_pixel_peaks_shortlist:\n",
    "    plt.axvline(pix)"
   ]
  },
  {
   "cell_type": "code",
   "execution_count": 56,
   "metadata": {},
   "outputs": [
    {
     "name": "stdout",
     "output_type": "stream",
     "text": [
      "[ 941 1250 1271 1333 1362 1425 1456 1511 1555 1577 1624 1645 1699 1748\n",
      " 1787 1817 1866 1885 1991 2017]\n",
      "[3520.4714 4046.565  4358.335  4671.2258 5341.0938 5400.5616 5852.4878\n",
      " 5881.895  6217.2812 6266.4952 6334.4276 6382.9914 6402.248  6506.5277\n",
      " 6598.9528 6929.4672 7024.05   7032.4128]\n"
     ]
    }
   ],
   "source": [
    "print(test_pixel_peaks_shortlist)\n",
    "print(calib_waves_shortlist)"
   ]
  },
  {
   "cell_type": "code",
   "execution_count": 57,
   "metadata": {},
   "outputs": [
    {
     "data": {
      "text/plain": [
       "<Figure size 432x288 with 0 Axes>"
      ]
     },
     "metadata": {},
     "output_type": "display_data"
    },
    {
     "data": {
      "image/png": "[encoded data removed]",
      "text/plain": [
       "<Figure size 432x432 with 1 Axes>"
      ]
     },
     "metadata": {},
     "output_type": "display_data"
    }
   ],
   "source": [
    "ycalibs = np.zeros(ncalib_lines)\n",
    "ytests = np.zeros(ntest_lines)\n",
    "plt.figure(),plt.subplots(figsize=(6,6))\n",
    "plt.plot(calib_waves_shortlist,ycalibs,'b.')\n",
    "plt.plot(test_pixel_peaks_shortlist,ytests,'r.')\n",
    "plt.show()"
   ]
  },
  {
   "cell_type": "code",
   "execution_count": 68,
   "metadata": {},
   "outputs": [
    {
     "ename": "IndexError",
     "evalue": "tuple index out of range",
     "output_type": "error",
     "traceback": [
      "\u001b[1;31m---------------------------------------------------------------------------\u001b[0m",
      "\u001b[1;31mIndexError\u001b[0m                                Traceback (most recent call last)",
      "\u001b[1;32m<ipython-input-68-e4136dee4773>\u001b[0m in \u001b[0;36m<module>\u001b[1;34m()\u001b[0m\n\u001b[0;32m     22\u001b[0m             \u001b[0mbest_fitted_test_pix\u001b[0m \u001b[1;33m=\u001b[0m \u001b[0mtest_pix\u001b[0m\u001b[1;33m\u001b[0m\u001b[0m\n\u001b[0;32m     23\u001b[0m \u001b[1;33m\u001b[0m\u001b[0m\n\u001b[1;32m---> 24\u001b[1;33m \u001b[0mprint\u001b[0m\u001b[1;33m(\u001b[0m\u001b[0mbest_str\u001b[0m\u001b[1;33m.\u001b[0m\u001b[0mformat\u001b[0m\u001b[1;33m(\u001b[0m\u001b[1;33m*\u001b[0m\u001b[0mbest_params\u001b[0m\u001b[1;33m)\u001b[0m\u001b[1;33m)\u001b[0m\u001b[1;33m\u001b[0m\u001b[0m\n\u001b[0m",
      "\u001b[1;31mIndexError\u001b[0m: tuple index out of range"
     ]
    }
   ],
   "source": [
    "from itertools import combinations\n",
    "all_calib_inds = np.arange(ncalib_lines).astype(int)\n",
    "all_param_combos = []\n",
    "best_fitted_calib_waves = []\n",
    "best_fitted_test_pix = []\n",
    "best_params = ()\n",
    "lowest_chisq = 1e6\n",
    "for current_ind_selection_tup in combinations(all_calib_inds, nchoose_lines):\n",
    "    current_ind_selection = list(current_ind_selection_tup)\n",
    "    calib_waves = calib_waves_shortlist[current_ind_selection]\n",
    "    calib_sigs  = calib_sigma_shortlist[current_ind_selection]\n",
    "    for test_pix in combinations(test_pixel_peaks_shortlist,nchoose_lines):\n",
    "        current_params,param_covar = curve_fit(pix_to_lam,test_pix,\\\n",
    "                                            calib_waves,p0=init_poly_coeffs,\\\n",
    "                                            sigma=calib_sigs,maxfev=int(1e5))\n",
    "        all_param_combos.append(current_params)\n",
    "        test_waves = poly(test_pix,*current_params)\n",
    "        diff_waves = test_waves-calib_waves\n",
    "        chisq = np.sum(diff_waves*diff_waves)\n",
    "        if chisq < lowest_chisq:\n",
    "            lowest_chisq = chisq\n",
    "            best_params = current_params\n",
    "            best_fitted_calib_waves = calib_waves\n",
    "            best_fitted_test_pix = test_pix\n",
    "\n",
    "print(best_str.format(*best_params))"
   ]
  },
  {
   "cell_type": "code",
   "execution_count": 72,
   "metadata": {},
   "outputs": [
    {
     "data": {
      "text/plain": [
       "<Figure size 432x288 with 0 Axes>"
      ]
     },
     "metadata": {},
     "output_type": "display_data"
    },
    {
     "data": {
      "image/png": "[encoded data removed]",
      "text/plain": [
       "<Figure size 720x720 with 1 Axes>"
      ]
     },
     "metadata": {},
     "output_type": "display_data"
    }
   ],
   "source": [
    "pixels = np.arange(size_ccd)\n",
    "bestfit_lams = poly(pixels,*best_params)\n",
    "\n",
    "bestfit_lams_testlines = poly(best_fitted_test_pix,*best_params)\n",
    "\n",
    "plt.figure(),plt.subplots(figsize=(10,10))\n",
    "plt.plot(bestfit_lams,pixels,'b-',linewidth=2)\n",
    "plt.plot(bestfit_lams_testlines,best_fitted_test_pix,'g*')\n",
    "for wave in best_fitted_calib_waves:\n",
    "    plt.axvline(wave)\n",
    "plt.ylim(800,size_ccd)\n",
    "plt.xlim(5000,9000)\n",
    "plt.show()"
   ]
  },
  {
   "cell_type": "code",
   "execution_count": 60,
   "metadata": {},
   "outputs": [
    {
     "data": {
      "text/plain": [
       "<Figure size 432x288 with 0 Axes>"
      ]
     },
     "metadata": {},
     "output_type": "display_data"
    },
    {
     "data": {
      "image/png": "[encoded data removed]",
      "text/plain": [
       "<Figure size 576x576 with 1 Axes>"
      ]
     },
     "metadata": {},
     "output_type": "display_data"
    }
   ],
   "source": [
    "plt.figure(),plt.subplots(figsize=(8,8))\n",
    "plt.plot(bestfit_lams,test_spectra,'b-',linewidth=2)\n",
    "plt.plot(bestfit_lams_testlines,test_spectra[test_pixel_peaks_shortlist],'r*')\n",
    "for wave in calib_waves_shortlist:\n",
    "    plt.axvline(wave)\n",
    "#plt.ylim(0,10000)\n",
    "#plt.xlim(5000,7500)\n",
    "plt.show()"
   ]
  },
  {
   "cell_type": "code",
   "execution_count": 61,
   "metadata": {},
   "outputs": [
    {
     "data": {
      "text/plain": [
       "<Figure size 432x288 with 0 Axes>"
      ]
     },
     "metadata": {},
     "output_type": "display_data"
    },
    {
     "data": {
      "image/png": "[encoded data removed]",
      "text/plain": [
       "<Figure size 576x576 with 1 Axes>"
      ]
     },
     "metadata": {},
     "output_type": "display_data"
    }
   ],
   "source": [
    "plt.figure(),plt.subplots(figsize=(8,8))\n",
    "plt.plot(range(size_ccd),test_spectra,'b-',linewidth=2)\n",
    "\n",
    "plt.show()"
   ]
  },
  {
   "cell_type": "code",
   "execution_count": 95,
   "metadata": {},
   "outputs": [
    {
     "name": "stdout",
     "output_type": "stream",
     "text": [
      "11.3 µs ± 399 ns per loop (mean ± std. dev. of 7 runs, 100000 loops each)\n"
     ]
    }
   ],
   "source": [
    "%timeit poly(4,1,2,4,2,7,8)"
   ]
  },
  {
   "cell_type": "code",
   "execution_count": 96,
   "metadata": {},
   "outputs": [
    {
     "name": "stdout",
     "output_type": "stream",
     "text": [
      "11.9 ns ± 0.161 ns per loop (mean ± std. dev. of 7 runs, 100000000 loops each)\n"
     ]
    }
   ],
   "source": [
    "%timeit 1+(2*4)+(4*(4**2))+(2*(4**3))+(7*(4**4))+(8*(4**5))"
   ]
  },
  {
   "cell_type": "code",
   "execution_count": 100,
   "metadata": {},
   "outputs": [],
   "source": [
    "xs = np.arange(20)"
   ]
  },
  {
   "cell_type": "code",
   "execution_count": 101,
   "metadata": {},
   "outputs": [
    {
     "name": "stdout",
     "output_type": "stream",
     "text": [
      "11.8 µs ± 375 ns per loop (mean ± std. dev. of 7 runs, 100000 loops each)\n"
     ]
    }
   ],
   "source": [
    "%timeit poly(xs,1,2,4,2,7,8)"
   ]
  },
  {
   "cell_type": "code",
   "execution_count": 102,
   "metadata": {},
   "outputs": [
    {
     "name": "stdout",
     "output_type": "stream",
     "text": [
      "9.25 µs ± 338 ns per loop (mean ± std. dev. of 7 runs, 100000 loops each)\n"
     ]
    }
   ],
   "source": [
    "%timeit 1+(2*xs)+(4*(xs**2))+(2*(xs**3))+(7*(xs**4))+(8*(xs**5))"
   ]
  },
  {
   "cell_type": "code",
   "execution_count": null,
   "metadata": {},
   "outputs": [],
   "source": []
  }
 ],
 "metadata": {
  "kernelspec": {
   "display_name": "Python 3",
   "language": "python",
   "name": "python3"
  },
  "language_info": {
   "codemirror_mode": {
    "name": "ipython",
    "version": 3
   },
   "file_extension": ".py",
   "mimetype": "text/x-python",
   "name": "python",
   "nbconvert_exporter": "python",
   "pygments_lexer": "ipython3",
   "version": "3.6.5"
  }
 },
 "nbformat": 4,
 "nbformat_minor": 2
}
