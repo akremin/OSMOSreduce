{
 "cells": [
  {
   "cell_type": "markdown",
   "metadata": {},
   "source": [
    "Basic Walkthrough:\n",
    "     1) Define everything\n",
    "     2) Create master bias file, Save master bias file  \n",
    "     3) Open all other files, sub master bias, save  (*c?.b.fits)\n",
    "     4) Remove cosmics from all file types except bias  (*c?.bc.fits)\n",
    "     5) Open flats and create master skyflat file, save\n",
    "     6) Open all remainging types and divide out master flat, then save  (*c?.bcf.fits)\n",
    "     7) Open all remaining types and stitch together, save  (*full.bcf.fits)\n",
    "     8) Use fibermap files to determine aperatures\n",
    "     9) Use aperatures to cut out same regions in thar,comp,science\n",
    "     10) Save all 256 to files with their header tagged name in filename, along with fiber num\n",
    "     11) Assume no curvature within tiny aperature region; fit profile to 2d spec and sum to 1d\n",
    "     12) Fit the lines in comp spectra, save file and fit solution\n",
    "     13) Try to fit lines in thar spectra, save file and fit solution\n",
    "     14) Apply to science spectra"
   ]
  },
  {
   "cell_type": "code",
   "execution_count": 1,
   "metadata": {},
   "outputs": [],
   "source": [
    "import os\n",
    "import numpy as np\n",
    "from astropy.io import fits\n",
    "import matplotlib.pyplot as plt\n",
    "\n",
    "%matplotlib inline\n",
    "%load_ext autoreload\n",
    "%autoreload 2"
   ]
  },
  {
   "cell_type": "markdown",
   "metadata": {},
   "source": [
    "### Define input file numbers and other required information\n",
    "\n",
    "Ex:\n",
    "\n",
    "    Bias 597-626\n",
    "    ThAr 627,635\n",
    "    NeHgArXe 628,629,636,637\n",
    "    Science 631-634\n",
    "    Fibermaps 573-577\n"
   ]
  },
  {
   "cell_type": "code",
   "execution_count": 2,
   "metadata": {
    "collapsed": true
   },
   "outputs": [],
   "source": [
    "biass = np.arange(597,626+1).astype(int)\n",
    "thar_lamps = np.asarray([627,635])\n",
    "comp_lamps = np.asarray([628,629,636,637])\n",
    "twiflats = np.arange(582,591+1).astype(int)\n",
    "sciences = np.arange(631,634+1).astype(int)\n",
    "fibermaps = np.arange(573,577+1).astype(int)"
   ]
  },
  {
   "cell_type": "code",
   "execution_count": 3,
   "metadata": {
    "collapsed": true
   },
   "outputs": [],
   "source": [
    "instrument = 'M2FS'\n",
    "mask_name = 'A02'\n",
    "cal_lamp = ['Xenon', 'Argon', 'HgNe']  # 'Xenon','Argon','Neon', 'HgNe'\n",
    "cameras = ['r']\n",
    "opamps = [1,2,3,4]"
   ]
  },
  {
   "cell_type": "code",
   "execution_count": 4,
   "metadata": {
    "collapsed": true
   },
   "outputs": [],
   "source": [
    "path_to_masks = os.path.abspath('../../OneDrive/Research/M2FSReductions')\n",
    "mask_subdir = mask_name\n",
    "raw_data_subdir =  'raw_data'\n",
    "raw_filename_template = '{cam}{filenum:04d}c{opamp}.fits'"
   ]
  },
  {
   "cell_type": "code",
   "execution_count": 5,
   "metadata": {
    "collapsed": true
   },
   "outputs": [],
   "source": [
    "make_debug_plots = False\n",
    "print_headers = True\n",
    "cut_bias_cols = True"
   ]
  },
  {
   "cell_type": "code",
   "execution_count": 6,
   "metadata": {
    "collapsed": true
   },
   "outputs": [],
   "source": [
    "do_bias = False\n",
    "do_cr   = False\n",
    "do_flat = True\n",
    "do_stitch = True\n",
    "do_apcut = True\n",
    "do_2dto1d = True\n",
    "do_wavecalib = True\n",
    "do_combine = True\n",
    "do_zfit = True"
   ]
  },
  {
   "cell_type": "markdown",
   "metadata": {},
   "source": [
    "###         Beginning of Code"
   ]
  },
  {
   "cell_type": "code",
   "execution_count": 7,
   "metadata": {
    "collapsed": true
   },
   "outputs": [],
   "source": [
    "date = np.datetime_as_string(np.datetime64('today', 'D'))"
   ]
  },
  {
   "cell_type": "code",
   "execution_count": 8,
   "metadata": {
    "collapsed": true
   },
   "outputs": [],
   "source": [
    "mask_dir = os.path.join(path_to_masks,mask_subdir)"
   ]
  },
  {
   "cell_type": "code",
   "execution_count": 9,
   "metadata": {},
   "outputs": [],
   "source": [
    "raw_data_dir =    os.path.join(mask_dir, raw_data_subdir)\n",
    "product_dir =     os.path.join(mask_dir,'data_products')\n",
    "stitched_dir =    os.path.join(mask_dir,'stitched')\n",
    "twod_dir =        os.path.join(mask_dir,'twods')\n",
    "oned_dir =        os.path.join(mask_dir,'oneds')\n",
    "calibrated_dir =  os.path.join(mask_dir,'calibrated_oned')\n",
    "summedspec_dir =  os.path.join(mask_dir,'final_oned')\n",
    "zfit_dir =        os.path.join(mask_dir,'zfits')\n",
    "\n",
    "for folder in [ raw_data_dir, product_dir, stitched_dir, twod_dir, \n",
    "    oned_dir, calibrated_dir, summedspec_dir, zfit_dir]:\n",
    "    if not os.path.exists(folder):\n",
    "        os.makedirs(folder)"
   ]
  },
  {
   "cell_type": "code",
   "execution_count": 10,
   "metadata": {
    "collapsed": true
   },
   "outputs": [],
   "source": [
    "fibermap_array_dict, fibermap_header_dict = None,None\n",
    "twiflat_array_dict, twiflat_header_dict = None,None\n",
    "bias_array_dict, bias_header_dict = None,None"
   ]
  },
  {
   "cell_type": "code",
   "execution_count": 11,
   "metadata": {
    "collapsed": true
   },
   "outputs": [],
   "source": [
    "headers = {}\n",
    "data = {}\n",
    "master_aux_data = {}\n",
    "master_aux_headers = {}"
   ]
  },
  {
   "cell_type": "code",
   "execution_count": 12,
   "metadata": {
    "collapsed": true
   },
   "outputs": [],
   "source": [
    "filenumbers = {'bias':biass, 'thar':thar_lamps, 'comp': comp_lamps,\n",
    "               'twiflat':twiflats, 'science': sciences, 'fibmap': fibermaps}"
   ]
  },
  {
   "cell_type": "code",
   "execution_count": 13,
   "metadata": {
    "collapsed": true
   },
   "outputs": [],
   "source": [
    "base_file_template =          '{cam}_{imtype}_{filenum:04d}_{maskname}_'\n",
    "valadded_filename_template =  base_file_template+'c{opamp}{tags}.fits'\n",
    "stitched_filename_template =  base_file_template+'stitched{tags}.fits'\n",
    "twod_filename_template =      base_file_template+'{fibername}_2d{tags}.fits'\n",
    "oned_filename_template =      base_file_template+'{fibername}_1d{tags}.fits'\n",
    "combined_filename_template =  base_file_template+'{fibername}_1d{tags}.fits'\n",
    "\n",
    "master_valadded_fname_template =  '{cam}_master{imtype}_{maskname}_c{opamp}{tags}.fits'\n",
    "master_stitched_fname_template =  '{cam}_master{imtype}_{maskname}_stitched{tags}.fits'"
   ]
  },
  {
   "cell_type": "code",
   "execution_count": 14,
   "metadata": {},
   "outputs": [],
   "source": [
    "common_func_vals = {    'maskname':      mask_name,\n",
    "                        'cameras':       cameras,\n",
    "                        'opamps':        opamps,         \n",
    "                        'datadir':       raw_data_dir,\n",
    "                        'template':      raw_filename_template,\n",
    "                        'tags':          ''                      }"
   ]
  },
  {
   "cell_type": "code",
   "execution_count": 15,
   "metadata": {},
   "outputs": [],
   "source": [
    "from quickreduce_funcs import get_all_filedata\n",
    "\n",
    "if do_bias:\n",
    "    data, headers = get_all_filedata(filenum_dict=filenumbers,\n",
    "                                      cut_bias_cols=cut_bias_cols,\n",
    "                                      **common_func_vals)\n",
    "    \n",
    "    if bias_array_dict is None or 'bias' in data.keys():\n",
    "        bias_array_dict = data.pop('bias')\n",
    "        bias_header_dict = headers.pop('bias')\n",
    "    else:\n",
    "        print(\"Can't find the bias data!\")"
   ]
  },
  {
   "cell_type": "code",
   "execution_count": 16,
   "metadata": {
    "scrolled": false
   },
   "outputs": [
    {
     "data": {
      "text/plain": [
       "array([597, 598, 599, 600, 601, 602, 603, 604, 605, 606, 607, 608, 609,\n",
       "       610, 611, 612, 613, 614, 615, 616, 617, 618, 619, 620, 621, 622,\n",
       "       623, 624, 625, 626])"
      ]
     },
     "execution_count": 16,
     "metadata": {},
     "output_type": "execute_result"
    }
   ],
   "source": [
    "from quickreduce_funcs import debug_plots, scrub_header\n",
    "\n",
    "if do_bias:\n",
    "    master_bias_data_dict = {}\n",
    "    master_bias_header_dict = {}\n",
    "    for camera,camera_bias_dict in bias_array_dict.items():\n",
    "        master_camera_bias_data_dict = {}\n",
    "        master_camera_bias_header_dict = {}\n",
    "        for opamp,opampdict in camera_bias_dict.items():\n",
    "            opamparray = np.asarray(list(opampdict.values()))\n",
    "            if make_debug_plots:\n",
    "                debug_plots(opamparray,camera, opamp)\n",
    "            opamparray = np.median(opamparray,axis=0)\n",
    "            header = list(bias_header_dict[camera][opamp].values())[0]\n",
    "            header = scrub_header(header,opamparray.shape)\n",
    "            header.add_history(\"Median Master Bias done by quickreduce on {}\".format(date))\n",
    "            outhdu = fits.PrimaryHDU(data=opamparray ,header=header)\n",
    "            outname = master_valadded_fname_template.format(cam=camera, imtype='bias',maskname=mask_name, \n",
    "                                                            opamp=opamp,tags=common_func_vals['tags'])\n",
    "            outhdu.writeto(os.path.join(common_func_vals['datadir'], outname) ,overwrite=True)\n",
    "            master_camera_bias_data_dict[opamp] = opamparray\n",
    "            master_camera_bias_header_dict[opamp] = header\n",
    "        master_bias_data_dict[camera] = master_camera_bias_data_dict\n",
    "        master_bias_header_dict[camera] = master_camera_bias_header_dict\n",
    "        print(\"Completed generation of master bias\")\n",
    "        print(\"Results saved to {}\".format(common_func_vals['datadir']))\n",
    "        del bias_array_dict, bias_header_dict\n",
    "# else:\n",
    "#     ## load in master bias\n",
    "#     print(\"Loaded master bias\")\n",
    "#     print(\"Loaded from {}\".format(common_func_vals['datadir']))\n",
    "    \n",
    "# master_aux_data['bias'] = master_bias_data_dict\n",
    "# master_aux_headers['bias'] = master_bias_header_dict\n",
    "\n",
    "filenumbers.pop('bias')  "
   ]
  },
  {
   "cell_type": "code",
   "execution_count": 17,
   "metadata": {
    "collapsed": true
   },
   "outputs": [],
   "source": [
    "common_func_vals['datadir']= product_dir\n",
    "common_func_vals['template'] = valadded_filename_template\n",
    "common_func_vals['tags'] = '.b'        "
   ]
  },
  {
   "cell_type": "code",
   "execution_count": 18,
   "metadata": {},
   "outputs": [],
   "source": [
    "if do_bias:\n",
    "    filenames = {}\n",
    "    for datatype,filenums in filenumbers.items():\n",
    "        filenames[datatype] = {}\n",
    "        datadict = data[datatype]\n",
    "        headerdict = headers[datatype]\n",
    "        for camera,camera_data_dict in datadict.items():\n",
    "            for opamp,opamparrays in camera_data_dict.items():\n",
    "                master_bias = master_bias_data_dict[camera][opamp]\n",
    "                for filenum in filenums:\n",
    "                    opamparray = opamparrays[filenum].astype(float)\n",
    "                    header = headerdict[camera][opamp][filenum]\n",
    "                    opamparray -= master_bias.astype(float)\n",
    "                    header = scrub_header(header,opamparray.shape)\n",
    "                    header.add_history(\"Bias Subtracted done by quickreduce on {}\".format(date))\n",
    "                    outhdu = fits.PrimaryHDU(data=opamparray ,header=header)  \n",
    "                    outname = valadded_filename_template.format(cam=camera,imtype=datatype, maskname=mask_name,\n",
    "                                                                opamp=opamp,filenum=filenum,tags=common_func_vals['tags'])\n",
    "                    outhdu.writeto(os.path.join(common_func_vals['datadir'] ,outname) ,overwrite=True)           \n",
    "                    headerdict[camera][opamp][filenum] = header\n",
    "                    datadict[camera][opamp][filenum] = opamparray\n",
    "        print(\"Completed bias subtraction for {}\".format(datatype))\n",
    "        print(\"Results saved to {}\".format(common_func_vals['datadir']))"
   ]
  },
  {
   "cell_type": "code",
   "execution_count": 19,
   "metadata": {
    "scrolled": true
   },
   "outputs": [],
   "source": [
    "import PyCosmic\n",
    "\n",
    "old_tag = common_func_vals['tags']\n",
    "new_tag = common_func_vals['tags']+'c'\n",
    "    \n",
    "if do_cr:\n",
    "    if len(data.keys()) == 0:\n",
    "        data, headers = get_all_filedata( filenum_dict=filenumbers, **common_func_vals )\n",
    "    for datatype in data.keys():\n",
    "        for camera in data[datatype].keys():\n",
    "            for opamp in data[datatype][camera].keys():\n",
    "                for filenum in filenumbers[datatype]:\n",
    "                    filename = valadded_filename_template.format(cam=camera, imtype=datatype, maskname=mask_name,\n",
    "                                                                 opamp=opamp, filenum=filenum, tags=old_tag)\n",
    "                    filename = os.path.join(common_func_vals['datadir'],filename)\n",
    "                    savefile = filename.replace(old_tag+'.fits',new_tag+'.fits')\n",
    "                    maskfile = filename.replace(old_tag+'.fits',old_tag+'.crmask.fits')\n",
    "                    print(\"\\nFor image type: {}, shoe: {},  opamp: {}, filenum: {}\".format(datatype,camera,opamp,filenum))\n",
    "                    outdat,pycosmask,pyheader = PyCosmic.detCos(filename,maskfile,savefile,rdnoise='ENOISE',sigma_det=8,\n",
    "                                                                gain='EGAIN',verbose=True,return_data=True)\n",
    "                    data[datatype][camera][opamp][filenum] = outdat\n",
    "                    ## Plot the image\n",
    "                    plt.figure()\n",
    "                    pycosmask = pycosmask - np.min(pycosmask) + 1e-4\n",
    "                    plt.imshow(np.log(pycosmask),'gray',origin='lowerleft')\n",
    "                    plt.savefig(maskfile.replace('.fits','.png'),dpi=1200)\n",
    "                    plt.close()\n",
    "                        \n",
    "common_func_vals['tags'] = new_tag\n",
    "del old_tag, new_tag"
   ]
  },
  {
   "cell_type": "code",
   "execution_count": 20,
   "metadata": {},
   "outputs": [],
   "source": [
    "if do_flat:\n",
    "    if len(data.keys()) == 0:\n",
    "        data, headers = get_all_filedata( filenum_dict=filenumbers, **common_func_vals )\n",
    "    if twiflat_array_dict is None or 'twiflat' in data.keys():\n",
    "        twiflat_array_dict = data.pop('twiflat')\n",
    "        twiflat_header_dict = headers.pop('twiflat')\n",
    "    else:\n",
    "        print(\"Can't find the twilight flats!\")"
   ]
  },
  {
   "cell_type": "code",
   "execution_count": 21,
   "metadata": {},
   "outputs": [
    {
     "name": "stdout",
     "output_type": "stream",
     "text": [
      "Completed creation of master twiflat\n",
      "Results saved to C:\\Users\\kremin\\OneDrive\\Research\\M2FSReductions\\A02\\data_products\n"
     ]
    },
    {
     "data": {
      "text/plain": [
       "array([582, 583, 584, 585, 586, 587, 588, 589, 590, 591])"
      ]
     },
     "execution_count": 21,
     "metadata": {},
     "output_type": "execute_result"
    }
   ],
   "source": [
    "if do_flat:\n",
    "    common_func_vals['tags'] = common_func_vals['tags']+'f'\n",
    "    master_twiflat_data_dict = {}\n",
    "    master_twiflat_header_dict = {}\n",
    "    for camera,camera_data_dict in twiflat_array_dict.items():\n",
    "        master_camera_twiflat_data_dict = {}\n",
    "        master_camera_twiflat_header_dict = {}\n",
    "        for opamp,opampdict in camera_data_dict.items():\n",
    "            opamparrays = np.asarray(list(opampdict.values()))\n",
    "            heads = twiflat_header_dict[camera][opamp]\n",
    "            header = list(heads.values())[0]\n",
    "            if header['SHOE'].lower() != camera:\n",
    "                print(\"In twiflat: Camera did not match the header's shoe variable\")\n",
    "            if header['OPAMP'] != opamp:\n",
    "                print(\"In twiflat: Opamp did not match the header's opamp variable\")\n",
    "            opamparray = opamparrays.sum(axis=0)  \n",
    "            header.add_history(\"Master twiflat summed by quickreduce on {}\".format(date))\n",
    "            header['TOTEXPT'] = np.sum([float(heads[key]['EXPTIME']) for key in heads.keys()])\n",
    "            header.remove('EXPTIME')\n",
    "            outhdu = fits.PrimaryHDU(data=opamparray ,header=header)  \n",
    "            outname = master_valadded_fname_template.format(cam=camera, imtype=\"twilightflat\", \n",
    "                                                            maskname=mask_name, opamp=opamp, \n",
    "                                                            tags=common_func_vals['tags'])\n",
    "            outhdu.writeto(os.path.join(common_func_vals['datadir'] ,outname) ,overwrite=True)\n",
    "            master_camera_twiflat_data_dict[opamp] = opamparray\n",
    "            master_camera_twiflat_header_dict[opamp] = header\n",
    "            if make_debug_plots:\n",
    "                typical_sep = np.mean(opamparrays[0,:,:])- np.mean(opamparrays[-1,:,:])\n",
    "                if typical_sep < 10:\n",
    "                    typical_sep = 10\n",
    "                debug_plots(opamparrays,camera, opamp, filetype='Twilight Flat',typical_sep=typical_sep,np_oper=np.sum)\n",
    "        master_twiflat_data_dict[camera] = master_camera_twiflat_data_dict\n",
    "        master_twiflat_header_dict[camera] = master_camera_twiflat_header_dict\n",
    "\n",
    "    master_aux_data['twiflat'] = master_twiflat_data_dict\n",
    "    master_aux_headers['twiflat'] = master_twiflat_header_dict\n",
    "\n",
    "    print(\"Completed creation of master twiflat\")\n",
    "    print(\"Results saved to {}\".format(common_func_vals['datadir']))\n",
    "    #del twiflat_array_dict, twiflat_header_dict\n",
    "# else:\n",
    "#     ## load in master twilight flat\n",
    "#     print(\"Loaded master twilight flat\")\n",
    "#     print(\"Loaded from {}\".format(common_func_vals['datadir']))\n",
    "    \n",
    "# master_aux_data['twiflat'] = master_twiflat_data_dict\n",
    "# master_aux_headers['twiflat'] = master_twiflat_header_dict   \n",
    "    \n",
    "filenumbers.pop('twiflat')"
   ]
  },
  {
   "cell_type": "code",
   "execution_count": 24,
   "metadata": {},
   "outputs": [
    {
     "name": "stdout",
     "output_type": "stream",
     "text": [
      "Completed flattening for thar\n",
      "Results saved to C:\\Users\\kremin\\OneDrive\\Research\\M2FSReductions\\A02\\data_products\n",
      "Completed flattening for comp\n",
      "Results saved to C:\\Users\\kremin\\OneDrive\\Research\\M2FSReductions\\A02\\data_products\n",
      "Completed flattening for science\n",
      "Results saved to C:\\Users\\kremin\\OneDrive\\Research\\M2FSReductions\\A02\\data_products\n",
      "Completed flattening for fibmap\n",
      "Results saved to C:\\Users\\kremin\\OneDrive\\Research\\M2FSReductions\\A02\\data_products\n"
     ]
    }
   ],
   "source": [
    "if do_flat:\n",
    "    for datatype in data.keys():\n",
    "        datadict = data[datatype]\n",
    "        headerdict = headers[datatype]\n",
    "        for camera,camera_data_dict in datadict.items():\n",
    "            for opamp,opamparrays in camera_data_dict.items():\n",
    "                master_twiflat = master_twiflat_data_dict[camera][opamp]\n",
    "                for filnum,filearray in opamparrays.items():\n",
    "                    opamparray = opamparrays[filnum].astype(float)\n",
    "                    header = headerdict[camera][opamp][filnum]\n",
    "                    opamparray /= master_twiflat.astype(float)\n",
    "                    header.add_history(\"Flat correction done by quickreduce on {}\".format(date))\n",
    "                    outhdu = fits.PrimaryHDU(data=opamparray ,header=header)\n",
    "                    filename = valadded_filename_template.format(cam=camera, imtype=datatype, \n",
    "                                                                 maskname=mask_name, opamp=opamp, \n",
    "                                                                 filenum=filnum, tags=common_func_vals['tags'])\n",
    "                    filename = os.path.join(common_func_vals['datadir'],filename)\n",
    "                    outhdu.writeto(filename ,overwrite=True)           \n",
    "                    headerdict[camera][opamp][filnum] = header\n",
    "                    datadict[camera][opamp][filnum] = opamparray\n",
    "\n",
    "        print(\"Completed flattening for {}\".format(datatype))\n",
    "        print(\"Results saved to {}\".format(common_func_vals['datadir']))"
   ]
  },
  {
   "cell_type": "code",
   "execution_count": 25,
   "metadata": {
    "scrolled": true
   },
   "outputs": [
    {
     "name": "stdout",
     "output_type": "stream",
     "text": [
      "<bound method Header.iterkeys of SIMPLE  =                    T / conforms to FITS standard                      \n",
      "BITPIX  =                  -64 / array data type                                \n",
      "NAXIS   =                    2 / number of array dimensions                     \n",
      "NAXIS1  =                 1024                                                  \n",
      "NAXIS2  =                 1028                                                  \n",
      "BUNIT   = 'DU/PIXEL'                                                            \n",
      "ORIGIN  = 'LCO/OCIW'                                                            \n",
      "OBSERVER= 'Bailey/Tucker/Spencer/Olsz' / observer name                          \n",
      "TELESCOP= 'Clay'                       / telescope                              \n",
      "SITENAME= 'LCO'                                                                 \n",
      "SITEALT =                 2405         / meters                                 \n",
      "SITELAT =            -29.01423                                                  \n",
      "SITELONG=            -70.69242                                                  \n",
      "TIMEZONE=                    4                                                  \n",
      "DATE-OBS= '2016-06-27'                 / UT date (start)                        \n",
      "UT-DATE = '2016-06-27'                 / UT date (start)                        \n",
      "UT-TIME = '23:33:42'                   / UT time (start) 84822 seconds          \n",
      "UT-END  = '23:36:43'                   / UT time (end) 85003 seconds            \n",
      "LC-TIME = '19:33:42'                   / local time (start) 70422 seconds       \n",
      "NIGHT   = '27Jun2016'                  / local night                            \n",
      "MJD     =          57566.98174         / modified Julian day                    \n",
      "INSTRUME= 'M2FS'                       / instrument name                        \n",
      "SCALE   =                0.250         / arcsec/pixel                           \n",
      "EGAIN   =                0.602         / electrons/DU                           \n",
      "ENOISE  =                2.471         / electrons/read                         \n",
      "NOPAMPS =                    4         / # of op-amps                           \n",
      "OPAMP   =                    4         / this op-amp                            \n",
      "CHOFFX  =              256.000         / x-offset [arcsec]                      \n",
      "CHOFFY  =             -257.000         / y-offset [arcsec]                      \n",
      "DISPAXIS=                    1         / disperser axis                         \n",
      "RA      = ' 14:00:54.9'                / right ascension                        \n",
      "RA-D    =          210.2286250         / degrees                                \n",
      "DEC     = ' 02:52:10.1'                / declination                            \n",
      "DEC-D   =            2.8694722         / degrees                                \n",
      "EQUINOX =           2000.00000         / of above coordinates                   \n",
      "EPOCH   =           2016.48902         / epoch (start)                          \n",
      "AIRMASS =                1.200         / airmass (start)                        \n",
      "ST      =              47816.8         / sidereal time: 13:16:57 (start)        \n",
      "ROTANGLE=               172.73         / rotator offset angle                   \n",
      "TEL-AZIM=                 20.6         / telescope azimuth                      \n",
      "TEL-ELEV=                 56.4         / telescope elevation                    \n",
      "T-DOME  =                 13.5         / dome temperature [C]                   \n",
      "T-CELL  =                 10.9         / primary cell temperature [C]           \n",
      "T-TRUSS =                 11.6         / telescope truss temperature [C]        \n",
      "WX-TEMP =                 11.8         / weather station temperature [C]        \n",
      "FILENAME= 'r0631c4'                                                             \n",
      "OBJECT  = 'KreminMiller A02 Test'      / object name                            \n",
      "COMMENT =                              / comment                                \n",
      "EXPTYPE = 'Object'                     / exposure type                          \n",
      "EXPTIME =              180.000         / exposure time                          \n",
      "NLOOPS  =                    1         / # of loops per sequence                \n",
      "LOOP    =                    1         / # within this sequence                 \n",
      "BINNING = '2x2'                        / binning                                \n",
      "SPEED   = 'Slow'                       / readout speed                          \n",
      "DATASEC = '[1:1024,1:1028]'            / NOAO: data section                     \n",
      "TRIMSEC = '[1:1024,1:1028]'            / NOAO: trim section                     \n",
      "SUBRASTR= 'none'                       / full frame                             \n",
      "TEMPCCD =               -109.4         / CCD temperature [C]                    \n",
      "SHOE    = 'R'                          /                                        \n",
      "SLIDE   = 'LoRes'                      /                                        \n",
      "SLIDEENC=               1282.1         / slide encoder                          \n",
      "SLIDESTP=                80000         / slide step                             \n",
      "LO-ELEV = '9.2699'                     / step= -106735                          \n",
      "HI-AZIM = '0.67499'                    / step= 17357                            \n",
      "HI-ELEV = '0.70000'                    / step= 18000                            \n",
      "FOCUS   =                240.3         / step= 2403                             \n",
      "FILTER  = 'BK7'                        /                                        \n",
      "SLITNAME= '180 um'                     /                                        \n",
      "SLIT1   = '180 um'                     /                                        \n",
      "SLIT2   = '180 um'                     /                                        \n",
      "SLIT3   = '180 um'                     /                                        \n",
      "SLIT4   = '180 um'                     /                                        \n",
      "SLIT5   = '180 um'                     /                                        \n",
      "SLIT6   = '180 um'                     /                                        \n",
      "SLIT7   = '180 um'                     /                                        \n",
      "SLIT8   = '180 um'                     /                                        \n",
      "FF-THNE =                    0         / lamp level (0=off)                     \n",
      "FF-THAR =                    0         / lamp level (0=off)                     \n",
      "FF-NE   =                    0         / lamp level (0=off)                     \n",
      "FF-HGAR =                    0         / lamp level (0=off)                     \n",
      "FF-XE   =                    0         / lamp level (0=off)                     \n",
      "FF-QRTZ =                    0         / lamp level (0=off)                     \n",
      "PLATE   = 'Kremin_02_07_08_11_Plate2'  / plug plate name                        \n",
      "PLATESTP= 'Kremin_02_07_08_11_Plate2:' / plate setup                            \n",
      "TEMP01  =               12.800         / SH_Periscope                           \n",
      "TEMP02  =               13.188         / Cradle_R                               \n",
      "TEMP03  =               13.875         / Cradle_B                               \n",
      "TEMP04  =               10.688         / Echelle_R                              \n",
      "TEMP05  =               10.562         / Echelle_B                              \n",
      "TEMP06  =               10.938         / Prism_R                                \n",
      "TEMP07  =               10.812         / Prism_B                                \n",
      "TEMP08  =               10.938         / LoResGrating_R                         \n",
      "TEMP09  =               10.750         / LoResGrating_B                         \n",
      "SOFTWARE= 'Version 1.5.5 (1.0513) (Jun 21 2016, 11:38:05)'                      \n",
      "FITSVERS= '1.3'                        / FITS header version                    \n",
      "FIBER101= 'GAL162'                     / FID=125 Fab=24/1 C/H=02/01             \n",
      "FIBER102= 'GAL002'                     / FID=422 Fab=24/2 C/H=02/02             \n",
      "FIBER103= 'GAL150'                     / FID=22 Fab=25/10 C/H=02/03             \n",
      "FIBER104= 'GAL001'                     / FID=434 Fab=24/4 C/H=02/04             \n",
      "FIBER105= 'GAL148'                     / FID=123 Fab=24/5 C/H=02/05             \n",
      "FIBER106= 'GAL161'                     / FID=51 Fab=24/6 C/H=02/06              \n",
      "FIBER107= 'GAL149'                     / FID=430 Fab=24/7 C/H=02/07             \n",
      "FIBER108= 'GAL134'                     / FID=250 Fab=24/8 C/H=02/08             \n",
      "FIBER109= 'GAL153'                     / FID=272 Fab=25/3 C/H=02/09             \n",
      "FIBER110= 'GAL086'                     / FID=214 Fab=25/2 C/H=02/10             \n",
      "FIBER111= 'GAL125'                     / FID=128 Fab=26/8 C/H=02/11             \n",
      "FIBER112= 'GAL126'                     / FID=158 Fab=26/1 C/H=02/12             \n",
      "FIBER113= 'GAL068'                     / FID=40 Fab=24/13 C/H=02/13             \n",
      "FIBER114= 'GAL067'                     / FID=155 Fab=26/6 C/H=02/14             \n",
      "FIBER115= 'GAL087'                     / FID=428 Fab=24/15 C/H=02/15            \n",
      "FIBER116= 'GAL151'                     / FID=433 Fab=24/16 C/H=02/16            \n",
      "FIBER201= 'GAL019'                     / FID=368 Fab=18/1 C/H=04/01             \n",
      "FIBER202= 'SKY006'                     / FID=366 Fab=18/2 C/H=04/02             \n",
      "FIBER203= 'GAL051'                     / FID=13 Fab=26/10 C/H=04/03             \n",
      "FIBER204= 'GAL102'                     / FID=375 Fab=18/4 C/H=04/04             \n",
      "FIBER205= 'GAL122'                     / FID=345 Fab=18/5 C/H=04/05             \n",
      "FIBER206= 'GAL182'                     / FID=328 Fab=18/6 C/H=04/06             \n",
      "FIBER207= 'GAL168'                     / FID=326 Fab=18/7 C/H=04/07             \n",
      "FIBER208= 'GAL173'                     / FID=329 Fab=18/8 C/H=04/08             \n",
      "FIBER209= 'GAL093'                     / FID=350 Fab=18/9 C/H=04/09             \n",
      "FIBER210= 'GAL110'                     / FID=323 Fab=18/10 C/H=04/10            \n",
      "FIBER211= 'GAL013'                     / FID=322 Fab=18/11 C/H=04/11            \n",
      "FIBER212= 'GAL141'                     / FID=333 Fab=18/12 C/H=04/12            \n",
      "FIBER213= 'GAL034'                     / FID=331 Fab=18/13 C/H=04/13            \n",
      "FIBER214= 'GAL158'                     / FID=351 Fab=18/14 C/H=04/14            \n",
      "FIBER215= 'GAL035'                     / FID=330 Fab=18/15 C/H=04/15            \n",
      "FIBER216= 'GAL159'                     / FID=334 Fab=18/16 C/H=04/16            \n",
      "FIBER301= 'GAL018'                     / FID=325 Fab=17/1 C/H=06/01             \n",
      "FIBER302= 'unplugged'                  / FID=339 Fab=17/2 C/H=06/02             \n",
      "FIBER303= 'unplugged'                  / FID=335 Fab=17/3 C/H=06/03             \n",
      "FIBER304= 'unplugged'                  / FID=347 Fab=17/4 C/H=06/04             \n",
      "FIBER305= 'unplugged'                  / FID=348 Fab=17/5 C/H=06/05             \n",
      "FIBER306= 'unplugged'                  / FID=293 Fab=17/7 C/H=06/06             \n",
      "FIBER307= 'unplugged'                  / FID=282 Fab=26/15 C/H=06/07            \n",
      "FIBER308= 'unplugged'                  / FID=295 Fab=17/8 C/H=06/08             \n",
      "FIBER309= 'GAL069'                     / FID=8 Fab=26/3 C/H=06/09               \n",
      "FIBER310= 'GAL057'                     / FID=319 Fab=17/10 C/H=06/10            \n",
      "FIBER311= 'GAL143'                     / FID=290 Fab=17/11 C/H=06/11            \n",
      "FIBER312= 'GAL066'                     / FID=144 Fab=26/16 C/H=06/12            \n",
      "FIBER313= 'GAL171'                     / FID=292 Fab=17/13 C/H=06/13            \n",
      "FIBER314= 'GAL056'                     / FID=302 Fab=17/14 C/H=06/14            \n",
      "FIBER315= 'SKY001'                     / FID=320 Fab=17/15 C/H=06/15            \n",
      "FIBER316= 'GAL047'                     / FID=297 Fab=17/16 C/H=06/16            \n",
      "FIBER401= 'GAL073'                     / FID=280 Fab=14/1 C/H=08/01             \n",
      "FIBER402= 'GAL006'                     / FID=257 Fab=14/2 C/H=08/02             \n",
      "FIBER403= 'GAL074'                     / FID=285 Fab=14/3 C/H=08/03             \n",
      "FIBER404= 'GAL075'                     / FID=210 Fab=23/3 C/H=08/04             \n",
      "FIBER405= 'GAL061'                     / FID=194 Fab=23/7 C/H=08/05             \n",
      "FIBER406= 'GAL165'                     / FID=273 Fab=14/6 C/H=08/06             \n",
      "FIBER407= 'GAL167'                     / FID=264 Fab=14/7 C/H=08/07             \n",
      "FIBER408= 'GAL071'                     / FID=276 Fab=14/8 C/H=08/08             \n",
      "FIBER409= 'GAL059'                     / FID=277 Fab=14/9 C/H=08/09             \n",
      "FIBER410= 'GAL109'                     / FID=100 Fab=23/2 C/H=08/10             \n",
      "FIBER411= 'GAL105'                     / FID=287 Fab=14/11 C/H=08/11            \n",
      "FIBER412= 'GAL156'                     / FID=269 Fab=14/12 C/H=08/12            \n",
      "FIBER413= 'GAL155'                     / FID=268 Fab=14/13 C/H=08/13            \n",
      "FIBER414= 'GAL154'                     / FID=432 Fab=23/9 C/H=08/14             \n",
      "FIBER415= 'GAL108'                     / FID=252 Fab=14/15 C/H=08/15            \n",
      "FIBER416= 'GAL084'                     / FID=249 Fab=14/16 C/H=08/16            \n",
      "FIBER501= 'GAL072'                     / FID=374 Fab=22/14 C/H=10/01            \n",
      "FIBER502= 'GAL140'                     / FID=226 Fab=13/2 C/H=10/02             \n",
      "FIBER503= 'GAL128'                     / FID=256 Fab=13/3 C/H=10/03             \n",
      "FIBER504= 'GAL115'                     / FID=234 Fab=13/4 C/H=10/04             \n",
      "FIBER505= 'GAL037'                     / FID=229 Fab=13/5 C/H=10/05             \n",
      "FIBER506= 'GAL063'                     / FID=19 Fab=25/16 C/H=10/06             \n",
      "FIBER507= 'SKY000'                     / FID=225 Fab=13/7 C/H=10/07             \n",
      "FIBER508= 'GAL114'                     / FID=255 Fab=13/8 C/H=10/08             \n",
      "FIBER509= 'GAL079'                     / FID=232 Fab=13/9 C/H=10/09             \n",
      "FIBER510= 'GAL012'                     / FID=254 Fab=13/10 C/H=10/10            \n",
      "FIBER511= 'GAL146'                     / FID=235 Fab=25/11 C/H=10/11            \n",
      "FIBER512= 'GAL098'                     / FID=242 Fab=13/12 C/H=10/12            \n",
      "FIBER513= 'GAL097'                     / FID=246 Fab=13/13 C/H=10/13            \n",
      "FIBER514= 'GAL077'                     / FID=241 Fab=13/14 C/H=10/14            \n",
      "FIBER515= 'GAL124'                     / FID=231 Fab=13/15 C/H=10/15            \n",
      "FIBER516= 'GAL000'                     / FID=238 Fab=13/16 C/H=10/16            \n",
      "FIBER601= 'GAL020'                     / FID=185 Fab=10/1 C/H=12/01             \n",
      "FIBER602= 'unplugged'                  / FID=191 Fab=10/2 C/H=12/02             \n",
      "FIBER603= 'unplugged'                  / FID=190 Fab=10/3 C/H=12/03             \n",
      "FIBER604= 'unplugged'                  / FID=187 Fab=11/14 C/H=12/04            \n",
      "FIBER605= 'unplugged'                  / FID=197 Fab=11/10 C/H=12/05            \n",
      "FIBER606= 'unplugged'                  / FID=199 Fab=11/7 C/H=12/06             \n",
      "FIBER607= 'unplugged'                  / FID=198 Fab=11/6 C/H=12/07             \n",
      "FIBER608= 'unplugged'                  / FID=180 Fab=10/8 C/H=12/08             \n",
      "FIBER609= 'GAL138'                     / FID=182 Fab=10/9 C/H=12/09             \n",
      "FIBER610= 'GAL010'                     / FID=208 Fab=11/9 C/H=12/10             \n",
      "FIBER611= 'GAL096'                     / FID=189 Fab=10/11 C/H=12/11            \n",
      "FIBER612= 'GAL123'                     / FID=188 Fab=10/12 C/H=12/12            \n",
      "FIBER613= 'GAL139'                     / FID=183 Fab=10/13 C/H=12/13            \n",
      "FIBER614= 'GAL095'                     / FID=172 Fab=10/14 C/H=12/14            \n",
      "FIBER615= 'GAL099'                     / FID=173 Fab=10/15 C/H=12/15            \n",
      "FIBER616= 'GAL050'                     / FID=177 Fab=10/16 C/H=12/16            \n",
      "FIBER701= 'unplugged'                  / FID=179 Fab=9/1 C/H=13/01              \n",
      "FIBER702= 'unplugged'                  / FID=192 Fab=9/2 C/H=13/02              \n",
      "FIBER703= 'unplugged'                  / FID=170 Fab=9/3 C/H=13/03              \n",
      "FIBER704= 'unplugged'                  / FID=248 Fab=22/8 C/H=13/04             \n",
      "FIBER705= 'unplugged'                  / FID=314 Fab=22/2 C/H=13/05             \n",
      "FIBER706= 'unplugged'                  / FID=23 Fab=9/6 C/H=13/06               \n",
      "FIBER707= 'unplugged'                  / FID=17 Fab=9/7 C/H=13/07               \n",
      "FIBER708= 'unplugged'                  / FID=315 Fab=22/4 C/H=13/08             \n",
      "FIBER709= 'unplugged'                  / FID=213 Fab=11/1 C/H=13/09             \n",
      "FIBER710= 'unplugged'                  / FID=91 Fab=9/10 C/H=13/10              \n",
      "FIBER711= 'unplugged'                  / FID=402 Fab=9/11 C/H=13/11             \n",
      "FIBER712= 'unplugged'                  / FID=413 Fab=9/12 C/H=13/12             \n",
      "FIBER713= 'unplugged'                  / FID=120 Fab=22/3 C/H=13/13             \n",
      "FIBER714= 'unplugged'                  / FID=389 Fab=9/14 C/H=13/14             \n",
      "FIBER715= 'unplugged'                  / FID=407 Fab=9/15 C/H=13/15             \n",
      "FIBER716= 'unplugged'                  / FID=393 Fab=9/16 C/H=13/16             \n",
      "FIBER801= 'GAL100'                     / FID=101 Fab=5/1 C/H=16/01              \n",
      "FIBER802= 'GAL021'                     / FID=119 Fab=5/2 C/H=16/02              \n",
      "FIBER803= 'GAL104'                     / FID=147 Fab=7/7 C/H=16/03              \n",
      "FIBER804= 'GAL028'                     / FID=106 Fab=5/4 C/H=16/04              \n",
      "FIBER805= 'GAL016'                     / FID=99 Fab=5/5 C/H=16/05               \n",
      "FIBER806= 'GAL017'                     / FID=112 Fab=5/6 C/H=16/06              \n",
      "FIBER807= 'GAL026'                     / FID=127 Fab=5/7 C/H=16/07              \n",
      "FIBER808= 'GAL023'                     / FID=109 Fab=5/8 C/H=16/08              \n",
      "FIBER809= 'SKY005'                     / FID=104 Fab=5/9 C/H=16/09              \n",
      "FIBER810= 'GAL070'                     / FID=121 Fab=5/10 C/H=16/10             \n",
      "FIBER811= 'GAL015'                     / FID=131 Fab=7/10 C/H=16/11             \n",
      "FIBER812= 'GAL076'                     / FID=141 Fab=7/11 C/H=16/12             \n",
      "FIBER813= 'GAL094'                     / FID=116 Fab=5/13 C/H=16/13             \n",
      "FIBER814= 'GAL049'                     / FID=110 Fab=5/14 C/H=16/14             \n",
      "FIBER815= 'GAL091'                     / FID=153 Fab=7/2 C/H=16/15              \n",
      "FIBER816= 'GAL060'                     / FID=86 Fab=5/16 C/H=16/16              \n",
      "COMMENT                                                                         \n",
      "COMMENT                                                                         \n",
      "COMMENT                                                                         \n",
      "COMMENT                                                                         \n",
      "COMMENT                                                                         \n",
      "COMMENT                                                                         \n",
      "COMMENT                                                                         \n",
      "COMMENT                                                                         \n",
      "COMMENT                                                                         \n",
      "COMMENT                                                                         \n",
      "COMMENT                                                                         \n",
      "COMMENT                                                                         \n",
      "COMMENT                                                                         \n",
      "COMMENT                                                                         \n",
      "COMMENT                                                                         \n",
      "COMMENT                                                                         \n",
      "COMMENT                                                                         \n",
      "COMMENT                                                                         \n",
      "COMMENT                                                                         \n",
      "COMMENT                                                                         \n",
      "COMMENT                                                                         \n",
      "COMMENT                                                                         \n",
      "COMMENT                                                                         \n",
      "HISTORY Bias Subtracted done by quickreduce on 2018-04-28                       \n",
      "HISTORY Flat correction done by quickreduce on 2018-04-30                       >\n"
     ]
    }
   ],
   "source": [
    "if print_headers:\n",
    "    print(list(headers['science'][camera][opamp].values())[0].keys)"
   ]
  },
  {
   "cell_type": "code",
   "execution_count": 26,
   "metadata": {
    "collapsed": true
   },
   "outputs": [],
   "source": [
    "#transforms = {4: 'l', 1: 'ul', 2: 'u', 3: 'none'}\n",
    "#camloc = {4:'br',1:'ur',2:'ul',3:'bl'}\n",
    "\n",
    "xorients = {-1:'l', 1:'r'}\n",
    "yorients = {-1:'b', 1:'u'}"
   ]
  },
  {
   "cell_type": "code",
   "execution_count": 27,
   "metadata": {
    "collapsed": true
   },
   "outputs": [],
   "source": [
    "del data\n",
    "data = {}\n",
    "common_func_vals['datadir'] = product_dir\n",
    "common_func_vals['template'] = valadded_filename_template"
   ]
  },
  {
   "cell_type": "code",
   "execution_count": 28,
   "metadata": {},
   "outputs": [
    {
     "name": "stdout",
     "output_type": "stream",
     "text": [
      "Imtype: thar  In filenum: 627 Camera: r Opamp: 1 located at ur\n",
      "Imtype: thar  In filenum: 627 Camera: r Opamp: 2 located at ul\n",
      "Imtype: thar  In filenum: 627 Camera: r Opamp: 3 located at bl\n",
      "Imtype: thar  In filenum: 627 Camera: r Opamp: 4 located at br\n"
     ]
    },
    {
     "ename": "KeyError",
     "evalue": "\"Keyword 'THAR' not found.\"",
     "output_type": "error",
     "traceback": [
      "\u001b[1;31m---------------------------------------------------------------------------\u001b[0m",
      "\u001b[1;31mKeyError\u001b[0m                                  Traceback (most recent call last)",
      "\u001b[1;32m<ipython-input-28-8f95c630abea>\u001b[0m in \u001b[0;36m<module>\u001b[1;34m()\u001b[0m\n\u001b[0;32m     69\u001b[0m \u001b[1;33m\u001b[0m\u001b[0m\n\u001b[0;32m     70\u001b[0m                 \u001b[0mdata\u001b[0m\u001b[1;33m[\u001b[0m\u001b[0mimtype\u001b[0m\u001b[1;33m]\u001b[0m\u001b[1;33m[\u001b[0m\u001b[0mcamera\u001b[0m\u001b[1;33m]\u001b[0m\u001b[1;33m[\u001b[0m\u001b[1;34m'stitched'\u001b[0m\u001b[1;33m]\u001b[0m\u001b[1;33m[\u001b[0m\u001b[0mfilenum\u001b[0m\u001b[1;33m]\u001b[0m \u001b[1;33m=\u001b[0m \u001b[0mmerged\u001b[0m\u001b[1;33m\u001b[0m\u001b[0m\n\u001b[1;32m---> 71\u001b[1;33m                 \u001b[0mheader\u001b[0m\u001b[1;33m[\u001b[0m\u001b[0mimtype\u001b[0m\u001b[1;33m]\u001b[0m\u001b[1;33m[\u001b[0m\u001b[0mcamera\u001b[0m\u001b[1;33m]\u001b[0m\u001b[1;33m[\u001b[0m\u001b[1;34m'stitched'\u001b[0m\u001b[1;33m]\u001b[0m\u001b[1;33m[\u001b[0m\u001b[0mfilenum\u001b[0m\u001b[1;33m]\u001b[0m \u001b[1;33m=\u001b[0m \u001b[0mheader\u001b[0m\u001b[1;33m\u001b[0m\u001b[0m\n\u001b[0m\u001b[0;32m     72\u001b[0m \u001b[1;33m\u001b[0m\u001b[0m\n\u001b[0;32m     73\u001b[0m                 \u001b[1;31m## Plot the image\u001b[0m\u001b[1;33m\u001b[0m\u001b[1;33m\u001b[0m\u001b[0m\n",
      "\u001b[1;32m~\\Anaconda3\\lib\\site-packages\\astropy\\io\\fits\\header.py\u001b[0m in \u001b[0;36m__getitem__\u001b[1;34m(self, key)\u001b[0m\n\u001b[0;32m    148\u001b[0m         \u001b[1;32melse\u001b[0m\u001b[1;33m:\u001b[0m\u001b[1;33m\u001b[0m\u001b[0m\n\u001b[0;32m    149\u001b[0m             \u001b[0mkeyword\u001b[0m \u001b[1;33m=\u001b[0m \u001b[0mkey\u001b[0m\u001b[1;33m\u001b[0m\u001b[0m\n\u001b[1;32m--> 150\u001b[1;33m         \u001b[0mcard\u001b[0m \u001b[1;33m=\u001b[0m \u001b[0mself\u001b[0m\u001b[1;33m.\u001b[0m\u001b[0m_cards\u001b[0m\u001b[1;33m[\u001b[0m\u001b[0mself\u001b[0m\u001b[1;33m.\u001b[0m\u001b[0m_cardindex\u001b[0m\u001b[1;33m(\u001b[0m\u001b[0mkey\u001b[0m\u001b[1;33m)\u001b[0m\u001b[1;33m]\u001b[0m\u001b[1;33m\u001b[0m\u001b[0m\n\u001b[0m\u001b[0;32m    151\u001b[0m         \u001b[1;32mif\u001b[0m \u001b[0mcard\u001b[0m\u001b[1;33m.\u001b[0m\u001b[0mfield_specifier\u001b[0m \u001b[1;32mis\u001b[0m \u001b[1;32mnot\u001b[0m \u001b[1;32mNone\u001b[0m \u001b[1;32mand\u001b[0m \u001b[0mkeyword\u001b[0m \u001b[1;33m==\u001b[0m \u001b[0mcard\u001b[0m\u001b[1;33m.\u001b[0m\u001b[0mrawkeyword\u001b[0m\u001b[1;33m:\u001b[0m\u001b[1;33m\u001b[0m\u001b[0m\n\u001b[0;32m    152\u001b[0m             \u001b[1;31m# This is RVKC; if only the top-level keyword was specified return\u001b[0m\u001b[1;33m\u001b[0m\u001b[1;33m\u001b[0m\u001b[0m\n",
      "\u001b[1;32m~\\Anaconda3\\lib\\site-packages\\astropy\\io\\fits\\header.py\u001b[0m in \u001b[0;36m_cardindex\u001b[1;34m(self, key)\u001b[0m\n\u001b[0;32m   1673\u001b[0m \u001b[1;33m\u001b[0m\u001b[0m\n\u001b[0;32m   1674\u001b[0m         \u001b[1;32mif\u001b[0m \u001b[1;32mnot\u001b[0m \u001b[0mindices\u001b[0m\u001b[1;33m:\u001b[0m\u001b[1;33m\u001b[0m\u001b[0m\n\u001b[1;32m-> 1675\u001b[1;33m             \u001b[1;32mraise\u001b[0m \u001b[0mKeyError\u001b[0m\u001b[1;33m(\u001b[0m\u001b[1;34m\"Keyword {!r} not found.\"\u001b[0m\u001b[1;33m.\u001b[0m\u001b[0mformat\u001b[0m\u001b[1;33m(\u001b[0m\u001b[0mkeyword\u001b[0m\u001b[1;33m)\u001b[0m\u001b[1;33m)\u001b[0m\u001b[1;33m\u001b[0m\u001b[0m\n\u001b[0m\u001b[0;32m   1676\u001b[0m \u001b[1;33m\u001b[0m\u001b[0m\n\u001b[0;32m   1677\u001b[0m         \u001b[1;32mtry\u001b[0m\u001b[1;33m:\u001b[0m\u001b[1;33m\u001b[0m\u001b[0m\n",
      "\u001b[1;31mKeyError\u001b[0m: \"Keyword 'THAR' not found.\""
     ]
    }
   ],
   "source": [
    "if do_stitch:\n",
    "    if len(data.keys()) == 0:\n",
    "        data, headers = get_all_filedata( filenum_dict=filenumbers, **common_func_vals )\n",
    "    common_func_vals['datadir'] = stitched_dir\n",
    "    common_func_vals['template'] = stitched_filename_template\n",
    "    for imtype in data.keys():\n",
    "        data_dict = data[imtype]\n",
    "        header_dict = headers[imtype]\n",
    "        for camera in data_dict.keys():\n",
    "            cam_data_dict = data_dict[camera]\n",
    "            cam_header_dict = header_dict[camera]\n",
    "            data[imtype][camera]['stitched'] = {}\n",
    "            headers[imtype][camera]['stitched'] = {}\n",
    "            for filenum in filenumbers[imtype]:\n",
    "                img = {}\n",
    "                for opamp in camera_data_dict.keys():\n",
    "                    header = cam_header_dict[opamp][filenum]\n",
    "                    xsign = np.sign(header['CHOFFX'])\n",
    "                    ysign = np.sign(header['CHOFFY'])\n",
    "                    location = yorients[ysign]+xorients[xsign]\n",
    "                    print(\"Imtype: {}  In filenum: {} Camera: {} Opamp: {} located at {}\".format(imtype,filenum,camera,opamp,location))\n",
    "                    img[location] = cam_data_dict[opamp][filenum]\n",
    "\n",
    "                trans = {}\n",
    "                ## Transform opamps to the correct directions\n",
    "                trans['bl'] = img['bl']\n",
    "                trans['br'] = np.fliplr(img['br'])\n",
    "                trans['ul'] = np.flipud(img['ul'])\n",
    "                trans['ur'] = np.fliplr(np.flipud(img['ur']))\n",
    "                del img\n",
    "\n",
    "                y_bl,x_bl = trans['bl'].shape\n",
    "                y_ul,x_ul = trans['ul'].shape\n",
    "                y_br,x_br = trans['br'].shape\n",
    "                y_ur,x_ur = trans['ur'].shape\n",
    "\n",
    "                ## Make sure the shapes work\n",
    "                if y_bl != y_br or y_ul != y_ur:\n",
    "                    print(\"yr and yl not the same\")\n",
    "                if x_bl != x_ul or x_br != x_ur:\n",
    "                    print(\"xb and xu not the same\")\n",
    "\n",
    "                ## Create the full-sized image array\n",
    "                merged = np.ndarray(shape=(y_bl+y_ul,x_bl+x_br))\n",
    "\n",
    "                ## Assign the opamps to the correct region of the array\n",
    "                ## bl\n",
    "                merged[:y_bl,:x_bl] = trans['bl']\n",
    "                ## ul\n",
    "                merged[y_bl:,:x_bl] = trans['ul']\n",
    "                ## br\n",
    "                merged[:y_bl,x_bl:] = trans['br']\n",
    "                ## ur\n",
    "                merged[y_bl:,x_bl:] = trans['ur']\n",
    "\n",
    "                opamp = 1\n",
    "                header = cam_header_dict[opamp][filenum].copy()\n",
    "                header['NAXIS1'] = int(y_bl+y_ul)\n",
    "                header['NAXIS2'] = int(x_bl+x_br)\n",
    "                header['FILENAME'] = header['FILENAME'].split('c{}'.format(opamp))[0]\n",
    "                for key in ['OPAMP','CHOFFX','CHOFFY']:\n",
    "                    header.remove(key)\n",
    "                header.add_history(\"Stitched 4 opamps by quickreduce on {}\".format(date))\n",
    "                outhdu = fits.PrimaryHDU(data=merged ,header=header)\n",
    "                filename = stitched_filename_template.format(imtype=imtype,cam=camera, filenum=filenum,\n",
    "                                                             maskname=mask_name, tags=common_func_vals['tags'])\n",
    "                filename = os.path.join(common_func_vals['datadir'],filename)\n",
    "                outhdu.writeto(filename ,overwrite=True)\n",
    "\n",
    "                data[imtype][camera]['stitched'][filenum] = merged\n",
    "                header[imtype][camera]['stitched'][filenum] = header\n",
    "\n",
    "                ## Plot the image\n",
    "                plt.figure()\n",
    "                merged = merged - np.min(merged) + 1e-4\n",
    "                plt.imshow(np.log(merged),'gray',origin='lowerleft')\n",
    "                plt.savefig(filename.replace('.fits','.png'),dpi=1200)\n",
    "                plt.show()\n",
    "            for opamp in opamps:\n",
    "                data[imtype][camera].remove(opamp)\n",
    "                header[imtype][camera].remove(opamp)"
   ]
  },
  {
   "cell_type": "code",
   "execution_count": null,
   "metadata": {
    "collapsed": true
   },
   "outputs": [],
   "source": [
    "common_func_vals['opamps'] = 'stitched'"
   ]
  },
  {
   "cell_type": "code",
   "execution_count": null,
   "metadata": {
    "collapsed": true,
    "scrolled": true
   },
   "outputs": [],
   "source": [
    "from quickreduce_funcs import get_all_stitcheddata\n",
    "\n",
    "if do_apcut:\n",
    "    if len(data.keys()) == 0:\n",
    "        data, headers = get_all_stitcheddata( filnum_dict=filenumbers, **common_func_vals )\n",
    "    if fibermap_array_dict is None or 'fibmap' in data.keys():\n",
    "        fibermap_array_dict = data.pop('fibmap')\n",
    "        fibermap_header_dict = headers.pop('fibmap')\n",
    "    else:\n",
    "        print(\"Can't find the fiber maps!\")"
   ]
  },
  {
   "cell_type": "code",
   "execution_count": null,
   "metadata": {
    "collapsed": true
   },
   "outputs": [],
   "source": [
    "if do_apcut:\n",
    "    master_fibm_data_dict = {}\n",
    "    master_fibm_header_dict = {}\n",
    "\n",
    "    for camera,camera_data_dict in fibermap_array_dict.items():\n",
    "        \n",
    "        opamp = 'stitched'\n",
    "        \n",
    "        heads = fibm_header_dict[camera][opamp]\n",
    "        master_bias = master_bias_data_dict[camera][opamp]\n",
    "        header = list(heads.values())[0]\n",
    "        \n",
    "        if header['SHOE'].lower() != camera:\n",
    "            print(\"In fibermap: Camera did not match the header's shoe variable\")\n",
    "        if header['OPAMP'] != opamp:\n",
    "            print(\"In fibermap: Opamp did not match the header's opamp variable\")\n",
    "            \n",
    "        \n",
    "        opamparray = np.asarray(list(heads.values())).sum(axis=0)\n",
    "        header.add_history(\"Master fibermap done by quickreduce on {}\".format(date))\n",
    "        \n",
    "        outhdu = fits.PrimaryHDU(data=opamparray ,header=header)  \n",
    "        outname = master_stitched_fname_template.format(cam=camera, imtype=\"fibermap\", \n",
    "                                                        maskname=mask_name, \n",
    "                                                        tags=common_func_vals['tags'])\n",
    "        outname = os.path.join(common_func_vals['dirname'],outname)\n",
    "        outhdu.writeto( outname ,overwrite=True)\n",
    "\n",
    "        if make_debug_plots:\n",
    "            typical_sep = np.mean(opamparrays[0,:,:])- np.mean(opamparrays[-1,:,:])\n",
    "            if typical_sep < 10:\n",
    "                typical_sep = 10\n",
    "            debug_plots(opamparrays,camera, opamp, filetype='Fibermap',typical_sep=typical_sep,np_oper=np.sum)\n",
    "        master_fibm_data_dict[camera] = opamparray\n",
    "        master_fibm_header_dict[camera] = header\n",
    "\n",
    "    master_aux_data['fibmap'] = master_fibm_data_dict\n",
    "    master_aux_headers['fibmap'] = master_fibm_header_dict\n",
    "\n",
    "    print(\"Completed master fibermap\")\n",
    "    print(\"Results saved to {}\".format(common_func_vals['datadir']))\n",
    "    #del fibm_array_dict, fibm_header_dict\n",
    "\n",
    "# else:\n",
    "#     ## load in master fibermap\n",
    "#     print(\"Loaded master fibermap\")\n",
    "#     print(\"Loaded from {}\".format(common_func_vals['datadir']))\n",
    "    \n",
    "# master_aux_data['bias'] = master_fibm_data_dict\n",
    "# master_aux_headers['bias'] = master_fibm_header_dict       \n",
    "    \n",
    "filenumbers.pop('fibmap')"
   ]
  },
  {
   "cell_type": "code",
   "execution_count": null,
   "metadata": {
    "collapsed": true
   },
   "outputs": [],
   "source": [
    "common_func_vals['datadir'] = stitched_dir\n",
    "common_func_vals['template'] = stitched_filename_template"
   ]
  }
 ],
 "metadata": {
  "kernelspec": {
   "display_name": "Python 3",
   "language": "python",
   "name": "python3"
  },
  "language_info": {
   "codemirror_mode": {
    "name": "ipython",
    "version": 3
   },
   "file_extension": ".py",
   "mimetype": "text/x-python",
   "name": "python",
   "nbconvert_exporter": "python",
   "pygments_lexer": "ipython3",
   "version": "3.6.2"
  }
 },
 "nbformat": 4,
 "nbformat_minor": 2
}
